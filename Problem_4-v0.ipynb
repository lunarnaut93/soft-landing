{
 "cells": [
  {
   "cell_type": "code",
   "execution_count": 1,
   "id": "6c788add",
   "metadata": {
    "executionInfo": {
     "elapsed": 2216,
     "status": "ok",
     "timestamp": 1659493767617,
     "user": {
      "displayName": "Julian Wang",
      "userId": "06808066235834124143"
     },
     "user_tz": 240
    },
    "id": "6c788add"
   },
   "outputs": [],
   "source": [
    "# Import packages.\n",
    "import cvxpy as cp\n",
    "import numpy as np\n",
    "import math\n",
    "from scipy.linalg import expm\n",
    "import matplotlib.pyplot as plt\n",
    "from cvxpylayers.torch import CvxpyLayer\n",
    "\n",
    "# Configure the display settings\n",
    "np.set_printoptions(edgeitems=30, linewidth=125, \n",
    "    formatter=dict(float=lambda x: \"%3.3f\" % x))"
   ]
  },
  {
   "cell_type": "code",
   "execution_count": 2,
   "id": "ef802db3",
   "metadata": {
    "executionInfo": {
     "elapsed": 133,
     "status": "ok",
     "timestamp": 1659493770777,
     "user": {
      "displayName": "Julian Wang",
      "userId": "06808066235834124143"
     },
     "user_tz": 240
    },
    "id": "ef802db3"
   },
   "outputs": [],
   "source": [
    "# Parameter Initialization\n",
    "# Background Parameter\n",
    "g=[-3.7114, 0, 0]\n",
    "pi = math.pi\n",
    "m_dry=1505\n",
    "m_wet=1905\n",
    "I_sp=225\n",
    "T1=930\n",
    "T2=2480\n",
    "n=6\n",
    "phii=27*2*pi/360\n",
    "alpha=5.09e-4\n",
    "# alpha = cp.Parameter(name=\"alpha\", shape=1, value=s5.09e-4)"
   ]
  },
  {
   "cell_type": "code",
   "execution_count": 3,
   "id": "7ef7f3c2",
   "metadata": {
    "executionInfo": {
     "elapsed": 142,
     "status": "ok",
     "timestamp": 1659303857330,
     "user": {
      "displayName": "Julian Wang",
      "userId": "06808066235834124143"
     },
     "user_tz": 240
    },
    "id": "7ef7f3c2"
   },
   "outputs": [],
   "source": [
    "# Optimal t_f and N\n",
    "t_f=68\n",
    "N=55\n",
    "time_step=t_f/N\n",
    "#Initial State\n",
    "position_0=[3000, 1000, 2000]\n",
    "velocity_0=[-50,10,100]\n",
    "y0=np.array([position_0 + velocity_0 + [np.log(m_wet)]]).T\n",
    "#print(y0, y0.shape)"
   ]
  },
  {
   "cell_type": "code",
   "execution_count": 4,
   "id": "ee47495a",
   "metadata": {
    "executionInfo": {
     "elapsed": 139,
     "status": "ok",
     "timestamp": 1659303880185,
     "user": {
      "displayName": "Julian Wang",
      "userId": "06808066235834124143"
     },
     "user_tz": 240
    },
    "id": "ee47495a"
   },
   "outputs": [],
   "source": [
    "# Define A_c Matrix\n",
    "A_c1 = np.concatenate((np.zeros((3,3)), np.identity(3)), axis=1)\n",
    "A_c2 = np.concatenate((A_c1, np.zeros((3,1))), axis=1)\n",
    "A_c = np.concatenate((A_c2, np.zeros((4,7))), axis=0)\n",
    "#print(A_c,A_c.shape)"
   ]
  },
  {
   "cell_type": "code",
   "execution_count": 5,
   "id": "a668f3fa",
   "metadata": {
    "executionInfo": {
     "elapsed": 140,
     "status": "ok",
     "timestamp": 1659303888803,
     "user": {
      "displayName": "Julian Wang",
      "userId": "06808066235834124143"
     },
     "user_tz": 240
    },
    "id": "a668f3fa"
   },
   "outputs": [],
   "source": [
    "# Define B_c Matrix\n",
    "B_c1 = np.concatenate((np.zeros((3,3)), np.identity(3)),axis=0)\n",
    "B_c2 = np.concatenate((B_c1, np.zeros((6,1))),axis=1)\n",
    "B_c = np.concatenate((B_c2, np.array([[0,0,0,-alpha]])), axis=0)\n",
    "#print(B_c,B_c.shape)"
   ]
  },
  {
   "cell_type": "code",
   "execution_count": 6,
   "id": "3091c4ba",
   "metadata": {
    "colab": {
     "base_uri": "https://localhost:8080/"
    },
    "executionInfo": {
     "elapsed": 149,
     "status": "ok",
     "timestamp": 1659303891772,
     "user": {
      "displayName": "Julian Wang",
      "userId": "06808066235834124143"
     },
     "user_tz": 240
    },
    "id": "3091c4ba",
    "outputId": "705e337c-b667-4e49-e4fb-b27d4797eea7"
   },
   "outputs": [
    {
     "name": "stdout",
     "output_type": "stream",
     "text": [
      "A= [[1.000 0.000 0.000 1.236 0.000 0.000 0.000]\n",
      " [0.000 1.000 0.000 0.000 1.236 0.000 0.000]\n",
      " [0.000 0.000 1.000 0.000 0.000 1.236 0.000]\n",
      " [0.000 0.000 0.000 1.000 0.000 0.000 0.000]\n",
      " [0.000 0.000 0.000 0.000 1.000 0.000 0.000]\n",
      " [0.000 0.000 0.000 0.000 0.000 1.000 0.000]\n",
      " [0.000 0.000 0.000 0.000 0.000 0.000 1.000]] (7, 7)\n",
      "B= [[0.764 0.000 0.000 0.000]\n",
      " [0.000 0.764 0.000 0.000]\n",
      " [0.000 0.000 0.764 0.000]\n",
      " [1.236 0.000 0.000 0.000]\n",
      " [0.000 1.236 0.000 0.000]\n",
      " [0.000 0.000 1.236 0.000]\n",
      " [0.000 0.000 0.000 -0.001]] (7, 4)\n"
     ]
    }
   ],
   "source": [
    "# Define A & B Matrix\n",
    "\"\"\"\n",
    "  Work on this later!!!\n",
    "  \n",
    "[A,B]=c2d(A_c,B_c,time_step);% A 7*7 ;B 7*4\n",
    "\"\"\"\n",
    "A = np.array([[1, 0, 0, 1.2364, 0, 0, 0],\n",
    "              [0, 1, 0, 0, 1.2364, 0, 0],\n",
    "              [0, 0, 1, 0, 0, 1.2364, 0],\n",
    "              [0, 0, 0, 1, 0, 0, 0],\n",
    "              [0, 0, 0, 0, 1, 0, 0],\n",
    "              [0, 0, 0, 0, 0, 1, 0],\n",
    "              [0, 0, 0, 0, 0, 0, 1]\n",
    "    \n",
    "])\n",
    "\n",
    "alpha = 5.09e-4\n",
    "B = np.array([[0.7643, 0, 0, 0],\n",
    "              [0, 0.7643, 0, 0],\n",
    "              [0, 0, 0.7643, 0],\n",
    "              [1.2364, 0, 0, 0],\n",
    "              [0, 1.2364, 0, 0],\n",
    "              [0, 0, 1.2364, 0],\n",
    "              [0, 0, 0, -alpha]\n",
    "    \n",
    "])\n",
    "print(\"A=\", A, A.shape)\n",
    "print(\"B=\", B, B.shape)\n",
    "#print(A[:,0:3])"
   ]
  },
  {
   "cell_type": "code",
   "execution_count": 7,
   "id": "4bd4ae58-9f46-4393-993e-e4fa12daa15c",
   "metadata": {},
   "outputs": [],
   "source": [
    "# psi=np.zeros((7*N,4*N+4)) #psi 7N*(4N+4)\n",
    "# psi[0:7,0:4]=B\n",
    "# for k in range(2,N+1):\n",
    "#     psi_next=A@psi[7*k-14:7*k-7,:]\n",
    "#     psi[7*k-7:7*k,:]=psi_next\n",
    "#     psi[7*k-7:7*k,4*k-4:4*k]=B\n",
    "#     psi_next=psi[7*k-7:7*k,:]\n",
    "# print(psi.shape)"
   ]
  },
  {
   "cell_type": "code",
   "execution_count": 8,
   "id": "7be96671-473d-4545-b2af-425027d061f9",
   "metadata": {},
   "outputs": [
    {
     "name": "stdout",
     "output_type": "stream",
     "text": [
      "(385, 224)\n"
     ]
    }
   ],
   "source": [
    "psi = np.concatenate((B, np.zeros([7,N*4])),axis=1)\n",
    "psi_prev = psi\n",
    "for k in range(2,N+1):\n",
    "    psi_next=A@psi_prev\n",
    "    psi_next=np.concatenate((np.concatenate((psi_next[:,:4*(k-1)],B),axis=1),psi_next[:,4*(k-1)+4:]),axis=1)\n",
    "    # psi_next[:-1,4*(k-1)-1] = 0 # clean up TODO: this is a hardcoded fix\n",
    "    for i in range(k,1,-1):\n",
    "        psi_next[:-1,4*(i-1)-1] = 0 # clean up TODO: this is a hardcoded fix\n",
    "    psi = np.concatenate((psi, psi_next),axis=0)\n",
    "    psi_prev = psi_next\n",
    "print(psi.shape)"
   ]
  },
  {
   "cell_type": "code",
   "execution_count": 9,
   "id": "6ba1707a-9d44-45ca-b63e-bda083bb7f99",
   "metadata": {},
   "outputs": [
    {
     "name": "stdout",
     "output_type": "stream",
     "text": [
      "(7, 385)\n"
     ]
    }
   ],
   "source": [
    "# Matrix for State Computation  # A^k #(7*7N)\n",
    "phi=np.zeros((7,7*N))\n",
    "phi[:,0:7]=A\n",
    "for k in range(2,N+1):\n",
    "    phi[:,7*k-7:7*k]=A@phi[:,7*k-14:7*k-7]\n",
    "print(phi.shape)"
   ]
  },
  {
   "cell_type": "code",
   "execution_count": 10,
   "id": "94485824",
   "metadata": {
    "executionInfo": {
     "elapsed": 210,
     "status": "ok",
     "timestamp": 1659303898104,
     "user": {
      "displayName": "Julian Wang",
      "userId": "06808066235834124143"
     },
     "user_tz": 240
    },
    "id": "94485824"
   },
   "outputs": [],
   "source": [
    "# # lambda parameter\n",
    "# lam=np.zeros((7,4*N)) #B+AB+......A^(k-1)B 7*4N\n",
    "# lam[:,0:4]=B\n",
    "# for k in range(2,N+1):\n",
    "#     lam[:,4*k-4:4*k]=A@lam[:,4*k-8:4*k-4]+B\n",
    "# print(lam.shape)"
   ]
  },
  {
   "cell_type": "code",
   "execution_count": 11,
   "id": "6d3ed393-7c8c-494f-a121-458acea9949a",
   "metadata": {},
   "outputs": [
    {
     "data": {
      "text/plain": [
       "(7, 220)"
      ]
     },
     "execution_count": 11,
     "metadata": {},
     "output_type": "execute_result"
    }
   ],
   "source": [
    "# lambda matrix  #B+AB+......A^(k-1)B  #(7*4N)\n",
    "lam=B  \n",
    "lam_prev=B\n",
    "for k in range(2,N+1):\n",
    "    # print(\"k\",k)\n",
    "    lam_next=A@lam_prev+B\n",
    "    lam_next[:-1,-1] = 0 # clean up\n",
    "    lam = np.concatenate([lam, lam_next], axis=1)\n",
    "    lam_prev = lam_next\n",
    "lam.shape"
   ]
  },
  {
   "cell_type": "code",
   "execution_count": 12,
   "id": "f20b3ef8",
   "metadata": {
    "executionInfo": {
     "elapsed": 155,
     "status": "ok",
     "timestamp": 1659303903218,
     "user": {
      "displayName": "Julian Wang",
      "userId": "06808066235834124143"
     },
     "user_tz": 240
    },
    "id": "f20b3ef8"
   },
   "outputs": [
    {
     "name": "stdout",
     "output_type": "stream",
     "text": [
      "(220, 224)\n"
     ]
    }
   ],
   "source": [
    "# upsilon matrix      #(4N*(4N+4))\n",
    "upsilon=np.zeros((4*N,4*N+4)) \n",
    "for k in range(1,N+1):\n",
    "    upsilon[4*k-4:4*k,4*k-4:4*k]=np.identity(4)\n",
    "print(upsilon.shape)"
   ]
  },
  {
   "cell_type": "code",
   "execution_count": 13,
   "id": "c2a9d335-d69e-40a2-ad6c-b9ffc2fe6a2b",
   "metadata": {},
   "outputs": [],
   "source": [
    "# # Matrix for Optimal Computation\n",
    "# Z0 = np.zeros((N+1,1))\n",
    "# for k in range(N+1):\n",
    "#     Z0[k,0]=np.log(m_wet-alpha*n*T2*math.cos(phii)*time_step*k) #(N+1)*1\n",
    "# print(Z0.shape)"
   ]
  },
  {
   "cell_type": "code",
   "execution_count": 14,
   "id": "8bd53e59-4e4b-4a2b-ad46-31cd4e2643e3",
   "metadata": {},
   "outputs": [
    {
     "name": "stdout",
     "output_type": "stream",
     "text": [
      "(56, 1)\n"
     ]
    }
   ],
   "source": [
    "# Matrix for Optimal Computation \n",
    "k = 0\n",
    "x = m_wet-alpha*n*T2*math.cos(phii)*time_step*k\n",
    "a = 1e5\n",
    "Z0 = np.array(a*x**(1/a) - a, ndmin=2)\n",
    "\n",
    "for k in range(1,N+1):\n",
    "    x = m_wet-alpha*n*T2*math.cos(phii)*time_step*k\n",
    "    Z0_new = np.array(a*x**(1/a) - a, ndmin=2)\n",
    "    Z0 = np.concatenate((Z0, Z0_new), axis=0)\n",
    "print(Z0.shape)"
   ]
  },
  {
   "cell_type": "code",
   "execution_count": 15,
   "id": "d8743964-c3f1-4e3b-b234-45ba14d7a967",
   "metadata": {},
   "outputs": [],
   "source": [
    "# mu_1 = np.zeros((1,N+1))\n",
    "# mu_2 = np.zeros((1,N+1))\n",
    "# for k in range(N+1):\n",
    "#     mu_1[0,k]=n*T1*math.cos(phii)*np.exp(-Z0[k,0]) #1*(N+1)\n",
    "#     mu_2[0,k]=n*T2*math.cos(phii)*np.exp(-Z0[k,0]) #1*(N+1)\n",
    "# #print(mu_1, mu_1.shape)\n",
    "# #print(mu_2, mu_2.shape)   "
   ]
  },
  {
   "cell_type": "code",
   "execution_count": 16,
   "id": "54306d71-dd91-469a-9884-67b5e7de7e25",
   "metadata": {},
   "outputs": [],
   "source": [
    "# Matrix for Optimal Computation \n",
    "mu_1 = np.array(n*T1*math.cos(phii)*cp.exp(-Z0[0,0]), ndmin = 2)  #(1*(N+1))\n",
    "mu_2 = np.array(n*T2*math.cos(phii)*cp.exp(-Z0[0,0]), ndmin = 2)  #(1*(N+1))\n",
    "\n",
    "for k in range(1, N+1):\n",
    "    mu_1_new = np.array(n*T1*math.cos(phii)*cp.exp(-Z0[k,0]), ndmin = 2)\n",
    "    mu_2_new = np.array(n*T2*math.cos(phii)*cp.exp(-Z0[k,0]), ndmin = 2)\n",
    "    mu_1 = np.concatenate((mu_1, mu_1_new), axis = 1)\n",
    "    mu_2 = np.concatenate((mu_2, mu_2_new), axis = 1)"
   ]
  },
  {
   "cell_type": "code",
   "execution_count": 17,
   "id": "004e0193",
   "metadata": {
    "executionInfo": {
     "elapsed": 153,
     "status": "ok",
     "timestamp": 1659303907646,
     "user": {
      "displayName": "Julian Wang",
      "userId": "06808066235834124143"
     },
     "user_tz": 240
    },
    "id": "004e0193"
   },
   "outputs": [],
   "source": [
    "# epsilon_k=np.zeros((7,N))\n",
    "# for k in range(0,N):\n",
    "#     temp = phi[:,7*k:7*(k+1)]@y0+lam[:,4*k:4*(k+1)]@np.array([g + [0]]).T\n",
    "#     epsilon_k[:,k]=temp[:,0]\n",
    "# print(epsilon_k.shape)"
   ]
  },
  {
   "cell_type": "code",
   "execution_count": 18,
   "id": "da1b950e-f9d4-4366-896f-4e471ce67017",
   "metadata": {},
   "outputs": [
    {
     "name": "stdout",
     "output_type": "stream",
     "text": [
      "(7, 55)\n"
     ]
    }
   ],
   "source": [
    "epsilon_k = phi[:,7*0:7*(0+1)]@y0+lam[:,4*0:4*(0+1)]@np.array([g + [0]]).T  #(7,1)\n",
    "for k in range(1,N):\n",
    "    temp = phi[:,7*k:7*(k+1)]@y0+lam[:,4*k:4*(k+1)]@np.array([g + [0]]).T\n",
    "    epsilon_k = np.concatenate((epsilon_k, temp), axis = 1)\n",
    "print(epsilon_k.shape)"
   ]
  },
  {
   "cell_type": "code",
   "execution_count": 19,
   "id": "8343b061",
   "metadata": {
    "executionInfo": {
     "elapsed": 208,
     "status": "ok",
     "timestamp": 1659303908702,
     "user": {
      "displayName": "Julian Wang",
      "userId": "06808066235834124143"
     },
     "user_tz": 240
    },
    "id": "8343b061"
   },
   "outputs": [
    {
     "name": "stdout",
     "output_type": "stream",
     "text": [
      "(1, 7)\n"
     ]
    }
   ],
   "source": [
    "e_sigma = np.array([0,0,0,1])\n",
    "#E = np.concatenate((np.identity(6), np.zeros((6,1))), axis=1)\n",
    "F = np.concatenate((np.zeros(6), np.ones(1)), axis=None).reshape((1,7))\n",
    "E_u = np.concatenate((np.identity(3), np.zeros((3,1))), axis=1)\n",
    "print(F.shape)"
   ]
  },
  {
   "cell_type": "code",
   "execution_count": 20,
   "id": "1c60e05e",
   "metadata": {
    "executionInfo": {
     "elapsed": 146,
     "status": "ok",
     "timestamp": 1659303909781,
     "user": {
      "displayName": "Julian Wang",
      "userId": "06808066235834124143"
     },
     "user_tz": 240
    },
    "id": "1c60e05e"
   },
   "outputs": [
    {
     "name": "stdout",
     "output_type": "stream",
     "text": [
      "(1, 220)\n"
     ]
    }
   ],
   "source": [
    "omega=np.zeros((1,4*N))  #1*4N\n",
    "for k in range(0,N):\n",
    "    omega[0,4*k:4*(k+1)]=e_sigma\n",
    "omega=time_step*omega\n",
    "print(omega.shape)"
   ]
  },
  {
   "cell_type": "code",
   "execution_count": 21,
   "id": "77598b29",
   "metadata": {
    "executionInfo": {
     "elapsed": 191,
     "status": "ok",
     "timestamp": 1659303911067,
     "user": {
      "displayName": "Julian Wang",
      "userId": "06808066235834124143"
     },
     "user_tz": 240
    },
    "id": "77598b29"
   },
   "outputs": [],
   "source": [
    "# Define and solve the CVXPY problem.\n",
    "eta = cp.Variable((4*N+4,1))\n",
    "obj = cp.Minimize(omega@eta[0:4*N,0])\n"
   ]
  },
  {
   "cell_type": "code",
   "execution_count": 22,
   "id": "0c7af4f3",
   "metadata": {
    "executionInfo": {
     "elapsed": 2,
     "status": "ok",
     "timestamp": 1659303914202,
     "user": {
      "displayName": "Julian Wang",
      "userId": "06808066235834124143"
     },
     "user_tz": 240
    },
    "id": "0c7af4f3"
   },
   "outputs": [],
   "source": [
    "# Convexified Thrust Constraint\n",
    "Conv_const = [\n",
    "      cp.SOC(e_sigma@upsilon[4*k:4*k+4,:]@eta, E_u@upsilon[4*k:4*k+4,:]@eta) for k in range(N)\n",
    "]"
   ]
  },
  {
   "cell_type": "code",
   "execution_count": 23,
   "id": "82e66374",
   "metadata": {},
   "outputs": [],
   "source": [
    "def multiply(X, Y):\n",
    "    result = np.zeros((X.shape[0], Y.shape[1]))\n",
    "    result = result.tolist()\n",
    "    #print(f'a = {result}')\n",
    "    # iterate through rows of X\n",
    "    for i in range(X.shape[0]):\n",
    "        # iterate through columns of Y\n",
    "        for j in range(Y.shape[1]):\n",
    "            # iterate through rows of Y\n",
    "            for k in range(Y.shape[0]):\n",
    "                result[i][j] += X[i][k] * Y[k][j]\n",
    "    '''\n",
    "    a = [[0]*mat2.shape[1]] * mat1.shape[0]\n",
    "    for i in range(mat1.shape[0]):\n",
    "        for j in range(mat2.shape[1]):\n",
    "            for k in range(mat2.shape[0]):\n",
    "                a[i][j] += mat1[i][k] * mat2[k][j]\n",
    "    a = np.array(a)\n",
    "    '''\n",
    "    return np.array(result)"
   ]
  },
  {
   "cell_type": "code",
   "execution_count": 24,
   "id": "2a7128a9-a123-43ee-9546-c5d9f7b37ae9",
   "metadata": {},
   "outputs": [],
   "source": [
    "def list_dot_product(v1, v2):\n",
    "    v3 = 0\n",
    "    for i in range(len(v1)):\n",
    "        v3 += v1[i] * v2[i]\n",
    "    return v3"
   ]
  },
  {
   "cell_type": "code",
   "execution_count": 25,
   "id": "42277d4b-5e6b-40a8-9d59-b1f9a464e31c",
   "metadata": {},
   "outputs": [],
   "source": [
    "# #  Final velocity constraint\n",
    "# v_const = [\n",
    "#     np.array([[0, 0, 0, 1, 0, 0, 0]])@(epsilon_k[:,N-1].reshape((7,1))+psi[7*N-7:7*N,:]@eta)==0,\n",
    "#     np.array([[0, 0, 0, 0, 1, 0, 0]])@(epsilon_k[:,N-1].reshape((7,1))+psi[7*N-7:7*N,:]@eta)==0,\n",
    "#     np.array([[0, 0, 0, 0, 0, 1, 0]])@(epsilon_k[:,N-1].reshape((7,1))+psi[7*N-7:7*N,:]@eta)==0,\n",
    "# ]"
   ]
  },
  {
   "cell_type": "code",
   "execution_count": 26,
   "id": "12dfca6e-8c80-4f7a-90c8-8b88d11efe4b",
   "metadata": {},
   "outputs": [],
   "source": [
    "#  Final velocity constraint\n",
    "a1 = np.expand_dims(epsilon_k[:,N-1],axis=1)\n",
    "a2 = multiply(psi[7*N-7:7*N,:],eta)\n",
    "\n",
    "v_const = [\n",
    "    np.array([[0, 0, 0, 1, 0, 0, 0]])@cp.vstack((a1+a2).squeeze())==0,\n",
    "    np.array([[0, 0, 0, 0, 1, 0, 0]])@cp.vstack((a1+a2).squeeze())==0,\n",
    "    np.array([[0, 0, 0, 0, 0, 1, 0]])@cp.vstack((a1+a2).squeeze())==0,\n",
    "]"
   ]
  },
  {
   "cell_type": "code",
   "execution_count": 27,
   "id": "31df65e8-59b8-4975-a7a4-eabeb82762a0",
   "metadata": {},
   "outputs": [],
   "source": [
    "#  Final height constraint\n",
    "m1 = np.concatenate((np.identity(3), np.zeros((3,4))), axis=1)\n",
    "m2 = np.concatenate((np.zeros((4,3)), np.zeros((4,4))), axis=1)\n",
    "m = np.concatenate((m1, m2), axis=0)\n",
    "h_const = [m@(epsilon_k[:,N-1].reshape((7,1))+psi[7*N-7:7*N,:]@eta)==np.zeros((7,1))]"
   ]
  },
  {
   "cell_type": "code",
   "execution_count": 28,
   "id": "7e06051b-9d40-46d9-b0f8-c2b88429ac2c",
   "metadata": {},
   "outputs": [],
   "source": [
    "# #  Final height constraint\n",
    "# #h_const = [m@(epsilon_k[:,N-1]+psi[7*N-7:7*N,:]@eta) == np.zeros((7,1))]\n",
    "# m1 = np.concatenate((np.identity(3), np.zeros((3,4))), axis=1)\n",
    "# m2 = np.concatenate((np.zeros((4,3)), np.zeros((4,4))), axis=1)\n",
    "# m = np.concatenate((m1, m2), axis=0)\n",
    "# #print(f'm.shape = {m.shape}')\n",
    "# a = multiply(psi[7*N-7:7*N,:],eta)\n",
    "# #print(f'a.shape = {a.shape}')\n",
    "# b = epsilon_k[:,N-1, np.newaxis]+a\n",
    "# #print(f'b.shape = {b.shape}')\n",
    "# c = multiply(m,b)\n",
    "# #print(f'c.shape = {c.shape}')\n",
    "# h_const = [i == 0 for i in c[:,0]]\n",
    "# #print(h_const)"
   ]
  },
  {
   "cell_type": "code",
   "execution_count": 29,
   "id": "246a2083",
   "metadata": {
    "executionInfo": {
     "elapsed": 157,
     "status": "ok",
     "timestamp": 1659303915263,
     "user": {
      "displayName": "Julian Wang",
      "userId": "06808066235834124143"
     },
     "user_tz": 240
    },
    "id": "246a2083"
   },
   "outputs": [],
   "source": [
    "# thrust constraints\n",
    "thr_const = [mu_1[0,0]*(1-(F@y0-Z0[0])+0.5*(F@y0-Z0[0])**2)<=e_sigma@upsilon[0:4,:]@eta,\n",
    "            e_sigma@upsilon[0:4,:]@eta<=mu_2[0,0]*(1-(F@y0-Z0[0]))]\n",
    "  \n",
    "for k in range(0,N):\n",
    "    thr_const.append(mu_1[0,k+1]*(1-(F.reshape((1,7))@(epsilon_k[:,k].reshape((7,1))+psi[7*k:7*(k+1),:]@eta)-Z0[k+1,0])+0.5*(F.reshape((1,7))@(epsilon_k[:,k].reshape((7,1))+psi[7*k:7*(k+1),:]@eta)-Z0[k+1,0])**2)<=e_sigma@upsilon[4*k:4*k+4,:]@eta)\n",
    "    thr_const.append(e_sigma@upsilon[4*k:4*k+4,:]@eta<=mu_2[0,k+1]*(1-(F.reshape((1,7))@(epsilon_k[:,k].reshape((7,1))+psi[7*k:7*(k+1),:]@eta)-Z0[k+1,0])))\n"
   ]
  },
  {
   "cell_type": "code",
   "execution_count": 30,
   "id": "c82d0d5f",
   "metadata": {},
   "outputs": [],
   "source": [
    "# # thrust constraints\n",
    "# thr_const = [mu_1[0,0]*(1-(F@y0-Z0[0,0])+0.5*(F@y0-Z0[0,0])**2)<=e_sigma@upsilon[0:4,:]@eta,\n",
    "#             e_sigma@upsilon[0:4,:]@eta<=mu_2[0,0]*(1-(F@y0-Z0[0,0]))]\n",
    "\n",
    "# for k in range(0,N):\n",
    "#     # print(f'thr_const for iter:{k}')\n",
    "#     h3 = multiply(psi[7*k:7*(k+1),:],eta) # good\n",
    "#     h1 = list_dot_product(F.squeeze(),(epsilon_k[:,k, np.newaxis]+h3)[:,0])-Z0[k+1,0]\n",
    "#     h = 1-h1+0.5*(h1**2)\n",
    "#     xLHS = mu_1[0,k+1]*h\n",
    "#     xRHS = e_sigma@upsilon[4*k:4*k+4,:]@eta\n",
    "#     thr_const.append(xLHS<=xRHS)\n",
    "\n",
    "#     yLHS = e_sigma@upsilon[4*k:4*k+4,:]@eta\n",
    "#     yRHS = mu_2[0,k+1]*(1-h1)\n",
    "#     thr_const.append(yLHS <= yRHS)\n",
    "    "
   ]
  },
  {
   "cell_type": "code",
   "execution_count": 31,
   "id": "7310e30f",
   "metadata": {
    "executionInfo": {
     "elapsed": 145,
     "status": "ok",
     "timestamp": 1659303916903,
     "user": {
      "displayName": "Julian Wang",
      "userId": "06808066235834124143"
     },
     "user_tz": 240
    },
    "id": "7310e30f"
   },
   "outputs": [],
   "source": [
    "# # Fuel mass constraints\n",
    "# f_const = []\n",
    "# for k in range(0,N):\n",
    "#     f_const.append(F.reshape((1,7))@(epsilon_k[:,k].reshape((7,1))+psi[7*k:7*(k+1),:]@eta)<=np.log(m_wet-alpha*n*T1*math.cos(phii)*time_step*(k+1)))\n",
    "#     f_const.append(np.log(m_wet-alpha*n*T2*math.cos(phii)*time_step*(k+1))<=F.reshape((1,7))@(epsilon_k[:,k].reshape((7,1))+psi[7*k:7*(k+1),:]@eta))\n"
   ]
  },
  {
   "cell_type": "code",
   "execution_count": 32,
   "id": "e5d23705-0bf3-45a2-aa09-93eda0b2a6c4",
   "metadata": {},
   "outputs": [],
   "source": [
    "# Fuel mass constraints\n",
    "f_const = []\n",
    "for k in range(0,N):\n",
    "    # print(f'f_const for iter:{k}')\n",
    "    h3 = multiply(psi[7*k:7*(k+1),:],eta) # good\n",
    "    h1 = list_dot_product(F.squeeze(),(epsilon_k[:,k, np.newaxis]+h3)[:,0])\n",
    "    xLHS = h1\n",
    "    xRHS = np.log(m_wet-alpha*n*T1*math.cos(phii)*time_step*(k+1))\n",
    "    yLHS = np.log(m_wet-alpha*n*T2*math.cos(phii)*time_step*(k+1))\n",
    "    yRHS = h1\n",
    "    f_const.append(xLHS <= xRHS)\n",
    "    f_const.append(yLHS <= yRHS)\n",
    "    # f_const.append(0 <= yRHS)"
   ]
  },
  {
   "cell_type": "code",
   "execution_count": 33,
   "id": "b70c9965-692d-4ed8-850b-7b515d09aca1",
   "metadata": {},
   "outputs": [],
   "source": [
    "# # Fuel mass constraints\n",
    "# a = 1e5\n",
    "# f_const = []\n",
    "# for k in range(0,N):\n",
    "#     # print(f'f_const for iter:{k}')\n",
    "#     h3 = multiply(psi[7*k:7*(k+1),:],eta) # good\n",
    "#     h1 = list_dot_product(F.squeeze(),(epsilon_k[:,k, np.newaxis]+h3)[:,0])\n",
    "#     xLHS = h1\n",
    "#     x = m_wet-alpha*n*T1*math.cos(phii)*time_step*(k+1)\n",
    "#     xRHS = a*x**(1/a) - a\n",
    "#     f_const.append(xLHS <= xRHS)\n",
    "    \n",
    "#     y = m_wet-alpha*n*T2*math.cos(phii)*time_step*(k+1)\n",
    "#     yLHS = a*y**(1/a) - a\n",
    "#     yRHS = h1\n",
    "#     f_const.append(yLHS <= yRHS)\n",
    "#     f_const.append(yRHS <= yLHS)"
   ]
  },
  {
   "cell_type": "code",
   "execution_count": 34,
   "id": "b4040d18-6c02-4b25-adba-fc949106cf7d",
   "metadata": {},
   "outputs": [
    {
     "data": {
      "text/plain": [
       "[Inequality(Expression(CONVEX, UNKNOWN, (1, 1)))]"
      ]
     },
     "execution_count": 34,
     "metadata": {},
     "output_type": "execute_result"
    }
   ],
   "source": [
    "# Cone constraints\n",
    "cone_const = [cp.norm(np.array([[0, 1, 0],[0, 0, 1]])@np.concatenate((np.identity(3),np.zeros((3,4))),axis=1)@(epsilon_k[:,k].reshape((7,1))+psi[7*k:7*(k+1),:]@eta),2)+np.array([[-0.268, 0, 0, 0, 0, 0, 0]])@(epsilon_k[:,k].reshape((7,1))+psi[7*k:7*(k+1),:]@eta)<=0]\n",
    "cone_const"
   ]
  },
  {
   "cell_type": "code",
   "execution_count": 35,
   "id": "2fb90ae9-251e-4e6b-8398-758c49bcbcc5",
   "metadata": {},
   "outputs": [],
   "source": [
    "# a1 = np.array([[0, 1, 0],[0, 0, 1]])@np.concatenate((np.identity(3),np.zeros((3,4))),axis=1)\n",
    "# a2 = np.expand_dims(epsilon_k[:,k],axis=1) + multiply(psi[7*(N-1):7*(N),:],eta)\n",
    "# a3 = multiply(a1,a2).squeeze()\n",
    "# a4 = cp.norm(cp.vstack(a3))\n",
    "# b1=np.array([[-0.268, 0, 0, 0, 0, 0, 0]])\n",
    "# b2=multiply(b1,a2) \n",
    "# b2 = b2.tolist()[0][0]\n",
    "# cone_const = [(a4+b2) <= 0]\n",
    "# cone_const"
   ]
  },
  {
   "cell_type": "code",
   "execution_count": 36,
   "id": "09c7cb7f",
   "metadata": {
    "colab": {
     "base_uri": "https://localhost:8080/"
    },
    "executionInfo": {
     "elapsed": 2089,
     "status": "ok",
     "timestamp": 1659307048311,
     "user": {
      "displayName": "Julian Wang",
      "userId": "06808066235834124143"
     },
     "user_tz": 240
    },
    "id": "09c7cb7f",
    "outputId": "c8dc5ffa-33a6-47ef-eb4a-56266891fecd"
   },
   "outputs": [
    {
     "name": "stdout",
     "output_type": "stream",
     "text": [
      "[]\n",
      "421.4624430210132\n",
      "optimal\n",
      "Problem is dpp: True\n",
      "Problem is dcp: True\n"
     ]
    }
   ],
   "source": [
    "socp_constraints =  Conv_const + h_const + v_const + cone_const + thr_const + f_const \n",
    "\n",
    "prob = cp.Problem(obj, socp_constraints)\n",
    "print(prob.parameters())\n",
    "prob.solve()\n",
    "print(obj.value)\n",
    "print(prob.status)\n",
    "print(\"Problem is dpp:\",prob.is_dpp())\n",
    "print(\"Problem is dcp:\",prob.is_dcp())"
   ]
  },
  {
   "cell_type": "code",
   "execution_count": 37,
   "id": "b50b87dc",
   "metadata": {
    "executionInfo": {
     "elapsed": 153,
     "status": "ok",
     "timestamp": 1659303928899,
     "user": {
      "displayName": "Julian Wang",
      "userId": "06808066235834124143"
     },
     "user_tz": 240
    },
    "id": "b50b87dc"
   },
   "outputs": [],
   "source": [
    "#     Output Information\n",
    "# Converting output into manageable format\n",
    "display_position = np.zeros((3,N+1))\n",
    "display_velocity = np.zeros((3,N+1))\n",
    "display_netthrust = np.zeros((3,N+1))\n",
    "display_thrust = np.zeros((3,N+1))\n",
    "display_allthrust = np.zeros((1,N+1))\n",
    "display_allvelocity = np.zeros((1,N+1))\n",
    "display_position[0:3, 0] = position_0\n",
    "display_velocity[0:3, 0] = velocity_0\n",
    "mass = np.zeros((1,N+1))\n",
    "mass[0] = m_wet"
   ]
  },
  {
   "cell_type": "code",
   "execution_count": 38,
   "id": "3bd6d8ef",
   "metadata": {
    "executionInfo": {
     "elapsed": 174,
     "status": "ok",
     "timestamp": 1659303931820,
     "user": {
      "displayName": "Julian Wang",
      "userId": "06808066235834124143"
     },
     "user_tz": 240
    },
    "id": "3bd6d8ef"
   },
   "outputs": [],
   "source": [
    "for k in range(0,N):\n",
    "    v = (epsilon_k[:,k].reshape((7,1))+psi[7*k:7*(k+1),:]@eta.value)\n",
    "    display_position[:,k+1] = (np.concatenate((np.identity(3), np.zeros((3,4))), axis=1)@v).reshape((3,))\n",
    "    temp = np.concatenate((np.zeros((3,3)), np.identity(3)), axis=1)\n",
    "    display_velocity[:,k+1] = (np.concatenate((temp, np.zeros((3,1))), axis=1)@v).reshape(3,)\n",
    "    mass[0,k+1] = np.array([[0, 0, 0, 0, 0, 0, 1]])@v\n",
    "    mass[0,k+1] = np.exp(mass[0,k+1])\n",
    "\n",
    "for k in range(0,N):\n",
    "    display_netthrust[:,k+1] = (np.concatenate((np.identity(3), np.zeros((3,1))), axis=1)@(upsilon[4*k:4*k+4,:]@eta.value)).reshape(3,)\n",
    "    display_thrust[:,k+1] = display_netthrust[:,k+1]\n",
    "    display_netthrust[:,k+1] = display_netthrust[:,k+1]*mass[0,k+1]\n",
    "    #display_allthrust[0,k+1] = cp.norm(display_thrust[0:3,k+1],2)*mass[0,k+1]\n",
    "    #display_allvelocity[0,k+1] = cp.norm(display_velocity[0:3,k+1],2)\n"
   ]
  },
  {
   "cell_type": "code",
   "execution_count": 39,
   "id": "9918b75d",
   "metadata": {
    "colab": {
     "base_uri": "https://localhost:8080/",
     "height": 282
    },
    "executionInfo": {
     "elapsed": 431,
     "status": "ok",
     "timestamp": 1659303933701,
     "user": {
      "displayName": "Julian Wang",
      "userId": "06808066235834124143"
     },
     "user_tz": 240
    },
    "id": "9918b75d",
    "outputId": "bac9edd0-3b42-40be-ce7e-eb0b1339b1b4"
   },
   "outputs": [
    {
     "data": {
      "text/plain": [
       "<matplotlib.legend.Legend at 0x7fcc8aa95e50>"
      ]
     },
     "execution_count": 39,
     "metadata": {},
     "output_type": "execute_result"
    },
    {
     "data": {
      "image/png": "[encoded data removed]",
      "text/plain": [
       "<Figure size 640x480 with 1 Axes>"
      ]
     },
     "metadata": {},
     "output_type": "display_data"
    }
   ],
   "source": [
    "plt.plot(display_position[0,:],label=\"X\")\n",
    "plt.plot(display_position[1,:],label=\"Y\")\n",
    "plt.plot(display_position[2,:],label=\"Z\")\n",
    "plt.legend(loc=\"upper left\")"
   ]
  },
  {
   "cell_type": "code",
   "execution_count": 40,
   "id": "977e026b",
   "metadata": {
    "colab": {
     "base_uri": "https://localhost:8080/",
     "height": 282
    },
    "executionInfo": {
     "elapsed": 627,
     "status": "ok",
     "timestamp": 1658513744518,
     "user": {
      "displayName": "Julian Wang",
      "userId": "06808066235834124143"
     },
     "user_tz": 240
    },
    "id": "977e026b",
    "outputId": "7a9ff915-b739-469e-cc1a-1885f6d7c37e"
   },
   "outputs": [
    {
     "data": {
      "text/plain": [
       "<matplotlib.legend.Legend at 0x7fcca0eb8a30>"
      ]
     },
     "execution_count": 40,
     "metadata": {},
     "output_type": "execute_result"
    },
    {
     "data": {
      "image/png": "[encoded data removed]",
      "text/plain": [
       "<Figure size 640x480 with 1 Axes>"
      ]
     },
     "metadata": {},
     "output_type": "display_data"
    }
   ],
   "source": [
    "plt.plot(display_netthrust[0,:],label=\"X\")\n",
    "plt.plot(display_netthrust[1,:],label=\"Y\")\n",
    "plt.plot(display_netthrust[2,:],label=\"Z\")\n",
    "plt.legend(loc=\"upper left\")"
   ]
  },
  {
   "cell_type": "code",
   "execution_count": 41,
   "id": "bf1b043a",
   "metadata": {
    "colab": {
     "base_uri": "https://localhost:8080/",
     "height": 282
    },
    "executionInfo": {
     "elapsed": 773,
     "status": "ok",
     "timestamp": 1658513745290,
     "user": {
      "displayName": "Julian Wang",
      "userId": "06808066235834124143"
     },
     "user_tz": 240
    },
    "id": "bf1b043a",
    "outputId": "118d9ef6-f92c-4ba0-ea1b-9cdc80885974"
   },
   "outputs": [
    {
     "data": {
      "text/plain": [
       "[<matplotlib.lines.Line2D at 0x7fcc8658a7f0>]"
      ]
     },
     "execution_count": 41,
     "metadata": {},
     "output_type": "execute_result"
    },
    {
     "data": {
      "image/png": "[encoded data removed]",
      "text/plain": [
       "<Figure size 640x480 with 2 Axes>"
      ]
     },
     "metadata": {},
     "output_type": "display_data"
    }
   ],
   "source": [
    "m1 = plt.subplot(2,1,1)\n",
    "m2 = plt.subplot(2,1,2)\n",
    "m1.plot(mass[0,:],label=\"Z\")\n",
    "\n",
    "m2.plot(mass[0,50:52],label=\"Z\")"
   ]
  },
  {
   "cell_type": "code",
   "execution_count": null,
   "id": "0668ba2c-b829-4a3d-8301-1d97065a0e6e",
   "metadata": {},
   "outputs": [],
   "source": []
  },
  {
   "cell_type": "code",
   "execution_count": null,
   "id": "c5e11be3-9daa-437d-b812-4383209d6b17",
   "metadata": {},
   "outputs": [],
   "source": []
  }
 ],
 "metadata": {
  "colab": {
   "collapsed_sections": [],
   "name": "Problem_4_Convex.ipynb",
   "provenance": []
  },
  "kernelspec": {
   "display_name": "Python 3 (ipykernel)",
   "language": "python",
   "name": "python3"
  },
  "language_info": {
   "codemirror_mode": {
    "name": "ipython",
    "version": 3
   },
   "file_extension": ".py",
   "mimetype": "text/x-python",
   "name": "python",
   "nbconvert_exporter": "python",
   "pygments_lexer": "ipython3",
   "version": "3.9.15"
  }
 },
 "nbformat": 4,
 "nbformat_minor": 5
}
