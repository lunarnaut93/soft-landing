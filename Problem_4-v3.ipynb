{
 "cells": [
  {
   "cell_type": "code",
   "execution_count": 1,
   "id": "6c788add",
   "metadata": {},
   "outputs": [],
   "source": [
    "# Import packages.\n",
    "import cvxpy as cp\n",
    "import numpy as np\n",
    "import math\n",
    "from scipy.linalg import expm\n",
    "import matplotlib.pyplot as plt\n",
    "import torch\n",
    "from cvxpylayers.torch import CvxpyLayer"
   ]
  },
  {
   "cell_type": "code",
   "execution_count": 2,
   "id": "ef802db3",
   "metadata": {},
   "outputs": [],
   "source": [
    "# Parameter Initialization\n",
    "# Background Parameter\n",
    "g=[-3.7114, 0, 0]\n",
    "pi = math.pi\n",
    "m_dry=1505\n",
    "m_wet=1905\n",
    "I_sp=225\n",
    "T1=930\n",
    "T2=2480\n",
    "n=6\n",
    "phii=27*2*pi/360\n",
    "alpha_val=6.293e-4\n",
    "alpha = cp.Parameter(name=\"alpha\", value=6.293e-4, nonneg=True)\n",
    "#alphas = np.logspace(0, 0.01, 200)"
   ]
  },
  {
   "cell_type": "code",
   "execution_count": 3,
   "id": "7ef7f3c2",
   "metadata": {},
   "outputs": [],
   "source": [
    "# Optimal t_f and N\n",
    "t_f=68\n",
    "N=55\n",
    "time_step=t_f/N\n",
    "#Initial State\n",
    "position_0=[3000, 1000, 2000]\n",
    "velocity_0=[-50,10,100]\n",
    "y0=np.array([position_0 + velocity_0 + [np.log(m_wet)]]).T\n",
    "#print(y0, y0.shape)"
   ]
  },
  {
   "cell_type": "code",
   "execution_count": 4,
   "id": "ee47495a",
   "metadata": {},
   "outputs": [],
   "source": [
    "# Define A_c Matrix\n",
    "A_c1 = np.concatenate((np.zeros((3,3)), np.identity(3)), axis=1)\n",
    "A_c2 = np.concatenate((A_c1, np.zeros((3,1))), axis=1)\n",
    "A_c = np.concatenate((A_c2, np.zeros((4,7))), axis=0)\n",
    "#print(A_c,A_c.shape)"
   ]
  },
  {
   "cell_type": "code",
   "execution_count": 5,
   "id": "a668f3fa",
   "metadata": {},
   "outputs": [
    {
     "name": "stdout",
     "output_type": "stream",
     "text": [
      "[[0.0 0.0 0.0 0.0]\n",
      " [0.0 0.0 0.0 0.0]\n",
      " [0.0 0.0 0.0 0.0]\n",
      " [1.0 0.0 0.0 0.0]\n",
      " [0.0 1.0 0.0 0.0]\n",
      " [0.0 0.0 1.0 0.0]\n",
      " [0 0 0 Expression(CONSTANT, NONPOSITIVE, ())]] (7, 4)\n"
     ]
    }
   ],
   "source": [
    "# Define B_c Matrix\n",
    "B_c1 = np.concatenate((np.zeros((3,3)), np.identity(3)),axis=0)\n",
    "B_c2 = np.concatenate((B_c1, np.zeros((6,1))),axis=1)\n",
    "B_c = np.concatenate((B_c2, np.array([[0,0,0,-alpha]])), axis=0)\n",
    "print(B_c,B_c.shape)"
   ]
  },
  {
   "cell_type": "code",
   "execution_count": 6,
   "id": "3091c4ba",
   "metadata": {},
   "outputs": [
    {
     "name": "stdout",
     "output_type": "stream",
     "text": [
      "A= [[1.     0.     0.     1.2364 0.     0.     0.    ]\n",
      " [0.     1.     0.     0.     1.2364 0.     0.    ]\n",
      " [0.     0.     1.     0.     0.     1.2364 0.    ]\n",
      " [0.     0.     0.     1.     0.     0.     0.    ]\n",
      " [0.     0.     0.     0.     1.     0.     0.    ]\n",
      " [0.     0.     0.     0.     0.     1.     0.    ]\n",
      " [0.     0.     0.     0.     0.     0.     1.    ]] (7, 7)\n",
      "B= [[0.7643 0 0 0]\n",
      " [0 0.7643 0 0]\n",
      " [0 0 0.7643 0]\n",
      " [1.2364 0 0 0]\n",
      " [0 1.2364 0 0]\n",
      " [0 0 1.2364 0]\n",
      " [0 0 0 Expression(CONSTANT, NONPOSITIVE, ())]] (7, 4)\n",
      "<class 'numpy.ndarray'>\n"
     ]
    }
   ],
   "source": [
    "# Define A & B Matrix\n",
    "\"\"\"\n",
    "  Work on this later!!!\n",
    "  use SciPy\n",
    "  \n",
    "[A,B]=c2d(A_c,B_c,time_step);% A 7*7 ;B 7*4\n",
    "\"\"\"\n",
    "\n",
    "\n",
    "\n",
    "A = np.array([[1, 0, 0, 1.2364, 0, 0, 0],\n",
    "              [0, 1, 0, 0, 1.2364, 0, 0],\n",
    "              [0, 0, 1, 0, 0, 1.2364, 0],\n",
    "              [0, 0, 0, 1, 0, 0, 0],\n",
    "              [0, 0, 0, 0, 1, 0, 0],\n",
    "              [0, 0, 0, 0, 0, 1, 0],\n",
    "              [0, 0, 0, 0, 0, 0, 1]\n",
    "\n",
    "])\n",
    "print(\"A=\", A, A.shape)\n",
    "\n",
    "B = np.array([[0.7643, 0, 0, 0],\n",
    "          [0, 0.7643, 0, 0],\n",
    "          [0, 0, 0.7643, 0],\n",
    "          [1.2364, 0, 0, 0],\n",
    "          [0, 1.2364, 0, 0],\n",
    "          [0, 0, 1.2364, 0],\n",
    "          [0, 0, 0, -alpha]])\n",
    "print(\"B=\", B, B.shape)\n",
    "print(type(B))"
   ]
  },
  {
   "cell_type": "code",
   "execution_count": 7,
   "id": "08a6c5c5",
   "metadata": {},
   "outputs": [
    {
     "name": "stdout",
     "output_type": "stream",
     "text": [
      "[[ 1.     0.     0.    ...  0.     0.     0.   ]\n",
      " [ 0.     1.     0.    ... 68.002  0.     0.   ]\n",
      " [ 0.     0.     1.    ...  0.    68.002  0.   ]\n",
      " ...\n",
      " [ 0.     0.     0.    ...  1.     0.     0.   ]\n",
      " [ 0.     0.     0.    ...  0.     1.     0.   ]\n",
      " [ 0.     0.     0.    ...  0.     0.     1.   ]] (7, 385)\n"
     ]
    }
   ],
   "source": [
    "# Matrix for State Computation  # A^k #(7*7N)\n",
    "phi=np.zeros((7,7*N))\n",
    "phi[:,0:7]=A\n",
    "for k in range(2,N+1):\n",
    "    phi[:,7*k-7:7*k]=A@phi[:,7*k-14:7*k-7]\n",
    "print(phi, phi.shape)"
   ]
  },
  {
   "cell_type": "code",
   "execution_count": 8,
   "id": "840ef2e5",
   "metadata": {},
   "outputs": [],
   "source": [
    "# lambda matrix  #B+AB+......A^(k-1)B  #(7*4N)\n",
    "lam=B  \n",
    "lam_prev=B\n",
    "for k in range(2,N+1):\n",
    "    lam_next=A@lam_prev+B\n",
    "    lam = np.concatenate([lam, lam_next], axis=1)\n",
    "    lam_prev = lam_next"
   ]
  },
  {
   "cell_type": "code",
   "execution_count": 9,
   "id": "b4e9e15d",
   "metadata": {
    "scrolled": true
   },
   "outputs": [
    {
     "name": "stdout",
     "output_type": "stream",
     "text": [
      "[6.87895488 0.0 0.0 3.7092 0.0 0.0 0.0]\n",
      "<class 'numpy.ndarray'>\n"
     ]
    }
   ],
   "source": [
    "### testing lambda matrix\n",
    "print(lam[:,8])\n",
    "print(type(lam))"
   ]
  },
  {
   "cell_type": "code",
   "execution_count": 10,
   "id": "fdc7222a",
   "metadata": {},
   "outputs": [],
   "source": [
    "# psi matrix   #(7N*(4N+4))\n",
    "psi = B \n",
    "psi = np.concatenate((psi, np.zeros((7,4*N))), axis=1)\n",
    "psi_prev = psi\n",
    "for k in range(2,N+1):\n",
    "    psi_next=A@psi_prev\n",
    "    psi = np.concatenate((psi, psi_next),axis=0)\n",
    "    psi_prev = psi_next"
   ]
  },
  {
   "cell_type": "code",
   "execution_count": 11,
   "id": "4d51a0d3",
   "metadata": {},
   "outputs": [
    {
     "name": "stdout",
     "output_type": "stream",
     "text": [
      "<class 'numpy.ndarray'>\n",
      "[[0.7643 0 0 0]\n",
      " [0 0.7643 0 0]\n",
      " [0 0 0.7643 0]\n",
      " [1.2364 0 0 0]\n",
      " [0 1.2364 0 0]\n",
      " [0 0 1.2364 0]\n",
      " [0 0 0 Expression(CONSTANT, NONPOSITIVE, ())]\n",
      " [2.29298496 0.0 0.0 Expression(CONSTANT, ZERO, ())]\n",
      " [0.0 2.29298496 0.0 Expression(CONSTANT, ZERO, ())]\n",
      " [0.0 0.0 2.29298496 Expression(CONSTANT, ZERO, ())]\n",
      " [1.2364 0.0 0.0 Expression(CONSTANT, ZERO, ())]\n",
      " [0.0 1.2364 0.0 Expression(CONSTANT, ZERO, ())]\n",
      " [0.0 0.0 1.2364 Expression(CONSTANT, ZERO, ())]\n",
      " [0.0 0.0 0.0 Expression(CONSTANT, NONPOSITIVE, ())]]\n"
     ]
    }
   ],
   "source": [
    "### testinf psi matrix\n",
    "print(type(psi))\n",
    "print(psi[:14,:4])"
   ]
  },
  {
   "cell_type": "code",
   "execution_count": 12,
   "id": "5625d46b",
   "metadata": {},
   "outputs": [
    {
     "name": "stdout",
     "output_type": "stream",
     "text": [
      "[[1. 0. 0. ... 0. 0. 0.]\n",
      " [0. 1. 0. ... 0. 0. 0.]\n",
      " [0. 0. 1. ... 0. 0. 0.]\n",
      " ...\n",
      " [0. 0. 0. ... 0. 0. 0.]\n",
      " [0. 0. 0. ... 0. 0. 0.]\n",
      " [0. 0. 0. ... 0. 0. 0.]] (220, 224)\n"
     ]
    }
   ],
   "source": [
    "# upsilon matrix      #(4N*(4N+4))\n",
    "upsilon=np.zeros((4*N,4*N+4)) \n",
    "for k in range(1,N+1):\n",
    "    upsilon[4*k-4:4*k,4*k-4:4*k]=np.identity(4)\n",
    "print(upsilon, upsilon.shape)"
   ]
  },
  {
   "cell_type": "code",
   "execution_count": 13,
   "id": "e9c1c9df",
   "metadata": {},
   "outputs": [],
   "source": [
    "# Matrix for Optimal Computation \n",
    "Z0 = np.array(cp.log(m_wet), ndmin=2)         #((N+1)*1)\n",
    "for k in range(1,N+1):\n",
    "    Z0_new = np.array(cp.log(m_wet-alpha*n*T2*math.cos(phii)*time_step*k), ndmin=2)\n",
    "    Z0 = np.concatenate((Z0, Z0_new), axis=0)"
   ]
  },
  {
   "cell_type": "code",
   "execution_count": 14,
   "id": "64dfaf0c",
   "metadata": {},
   "outputs": [
    {
     "name": "stdout",
     "output_type": "stream",
     "text": [
      "(56, 1)\n",
      "log(1905.0 + -alpha @ 6.0 @ 2480.0 @ 0.8910065241883679 @ 1.2363636363636363 @ 7.0)\n"
     ]
    }
   ],
   "source": [
    "print(Z0.shape)\n",
    "print(Z0[7,0])\n",
    "#print(Z0)"
   ]
  },
  {
   "cell_type": "code",
   "execution_count": 15,
   "id": "3f257d95",
   "metadata": {},
   "outputs": [],
   "source": [
    "# Matrix for Optimal Computation \n",
    "mu_1 = np.array(n*T1*math.cos(phii)*cp.exp(-Z0[0,0]), ndmin = 2)  #(1*(N+1))\n",
    "mu_2 = np.array(n*T2*math.cos(phii)*cp.exp(-Z0[0,0]), ndmin = 2)  #(1*(N+1))\n",
    "\n",
    "for k in range(1, N+1):\n",
    "    mu_1_new = np.array(n*T1*math.cos(phii)*cp.exp(-Z0[k,0]), ndmin = 2)\n",
    "    mu_2_new = np.array(n*T2*math.cos(phii)*cp.exp(-Z0[k,0]), ndmin = 2)\n",
    "    mu_1 = np.concatenate((mu_1, mu_1_new), axis = 1)\n",
    "    mu_2 = np.concatenate((mu_2, mu_2_new), axis = 1)"
   ]
  },
  {
   "cell_type": "code",
   "execution_count": 16,
   "id": "9a527ae8",
   "metadata": {},
   "outputs": [
    {
     "name": "stdout",
     "output_type": "stream",
     "text": [
      "mu_1 shape = (1, 56)\n",
      "mu_2 shape = (1, 56)\n",
      "[Expression(CONSTANT, NONNEGATIVE, ())\n",
      " Expression(CONSTANT, NONNEGATIVE, ())\n",
      " Expression(CONSTANT, NONNEGATIVE, ())\n",
      " Expression(CONSTANT, NONNEGATIVE, ())\n",
      " Expression(CONSTANT, NONNEGATIVE, ())]\n",
      "---------------------------------------\n",
      "[Expression(CONSTANT, NONNEGATIVE, ())\n",
      " Expression(CONSTANT, NONNEGATIVE, ())\n",
      " Expression(CONSTANT, NONNEGATIVE, ())\n",
      " Expression(CONSTANT, NONNEGATIVE, ())\n",
      " Expression(CONSTANT, NONNEGATIVE, ())]\n"
     ]
    }
   ],
   "source": [
    "print(f'mu_1 shape = {mu_1.shape}')\n",
    "print(f'mu_2 shape = {mu_2.shape}')\n",
    "\n",
    "print(mu_1[0,:5], end=\"\\n---------------------------------------\\n\")\n",
    "print(mu_2[0,:5])"
   ]
  },
  {
   "cell_type": "code",
   "execution_count": 17,
   "id": "b0ee9988",
   "metadata": {},
   "outputs": [],
   "source": [
    "# epsilon_k matrix      #(7*N)\n",
    "epsilon_k = phi[:,7*0:7*(0+1)]@y0+lam[:,4*0:4*(0+1)]@np.array([g + [0]]).T  #(7,1)\n",
    "for k in range(1,N):\n",
    "    temp = phi[:,7*k:7*(k+1)]@y0+lam[:,4*k:4*(k+1)]@np.array([g + [0]]).T\n",
    "    epsilon_k = np.concatenate((epsilon_k, temp), axis = 1)"
   ]
  },
  {
   "cell_type": "code",
   "execution_count": 18,
   "id": "c8f26414",
   "metadata": {},
   "outputs": [
    {
     "data": {
      "text/plain": [
       "(7, 55)"
      ]
     },
     "execution_count": 18,
     "metadata": {},
     "output_type": "execute_result"
    }
   ],
   "source": [
    "epsilon_k.shape"
   ]
  },
  {
   "cell_type": "code",
   "execution_count": 19,
   "id": "026c2431",
   "metadata": {},
   "outputs": [
    {
     "name": "stdout",
     "output_type": "stream",
     "text": [
      "epsilon k shape = (7, 55)\n",
      "[Expression(CONSTANT, UNKNOWN, ()) Expression(CONSTANT, NONNEGATIVE, ())\n",
      " Expression(CONSTANT, NONNEGATIVE, ())\n",
      " Expression(CONSTANT, NONPOSITIVE, ())\n",
      " Expression(CONSTANT, NONNEGATIVE, ())\n",
      " Expression(CONSTANT, NONNEGATIVE, ())\n",
      " Expression(CONSTANT, NONNEGATIVE, ())]\n"
     ]
    }
   ],
   "source": [
    "print(f'epsilon k shape = {epsilon_k.shape}')\n",
    "print(epsilon_k[:,46])"
   ]
  },
  {
   "cell_type": "code",
   "execution_count": 20,
   "id": "38ff1b8f",
   "metadata": {},
   "outputs": [],
   "source": [
    "e_sigma = np.array([0,0,0,1])\n",
    "#E = np.concatenate((np.identity(6), np.zeros((6,1))), axis=1)\n",
    "F = np.concatenate((np.zeros(6), np.ones(1)), axis=None).reshape((1,7))\n",
    "E_u = np.concatenate((np.identity(3), np.zeros((3,1))), axis=1)\n",
    "#print(F,F.shape)"
   ]
  },
  {
   "cell_type": "code",
   "execution_count": 21,
   "id": "cfdd5272",
   "metadata": {},
   "outputs": [],
   "source": [
    "omega=np.zeros((1,4*N))  #1*4N\n",
    "for k in range(0,N):\n",
    "    omega[0,4*k:4*(k+1)]=e_sigma\n",
    "omega=time_step*omega\n",
    "#print(omega, omega.shape)"
   ]
  },
  {
   "cell_type": "code",
   "execution_count": 22,
   "id": "c6891271",
   "metadata": {},
   "outputs": [],
   "source": [
    "# Define and solve the CVXPY problem.\n",
    "eta = cp.Variable((4*N+4,1))\n",
    "obj = cp.Minimize(omega@eta[0:4*N,0])"
   ]
  },
  {
   "cell_type": "code",
   "execution_count": 23,
   "id": "23d72007",
   "metadata": {},
   "outputs": [],
   "source": [
    "def multiply(mat1, mat2):\n",
    "    a = [[0]*mat2.shape[1]] * mat1.shape[0]\n",
    "    for i in range(len(mat1)):\n",
    "        for j in range(mat2.shape[1]):\n",
    "            for k in range(mat2.shape[1]):\n",
    "                a[i][j] += mat1[i][k] * mat2[k][j]\n",
    "    a = np.array(a)\n",
    "    return a "
   ]
  },
  {
   "cell_type": "code",
   "execution_count": 24,
   "id": "39c54108",
   "metadata": {},
   "outputs": [],
   "source": [
    "#  Final height constraint\n",
    "#h_const = [m@(epsilon_k[:,N-1]+psi[7*N-7:7*N,:]@eta) == np.zeros((7,1))]\n",
    "m1 = np.concatenate((np.identity(3), np.zeros((3,4))), axis=1)\n",
    "m2 = np.concatenate((np.zeros((4,3)), np.zeros((4,4))), axis=1)\n",
    "m = np.concatenate((m1, m2), axis=0)\n",
    "#print(f'm.shape = {m.shape}')\n",
    "a = multiply(psi[7*N-7:7*N,:],eta)\n",
    "#print(f'a.shape = {a.shape}')\n",
    "b = epsilon_k[:,N-1, np.newaxis]+a\n",
    "#print(f'b.shape = {b.shape}')\n",
    "c = multiply(m,b)\n",
    "#print(f'c.shape = {c.shape}')\n",
    "h_const = [i == 0 for i in c[:,0]]\n",
    "#print(h_const)"
   ]
  },
  {
   "cell_type": "code",
   "execution_count": 25,
   "id": "09da842c",
   "metadata": {},
   "outputs": [],
   "source": [
    "#  Final velocity constraint\n",
    "#np.array([[0, 0, 0, 1, 0, 0, 0]])@(cp.reshape(epsilon_k[:,N-1], (7,1))+psi[7*N-7:7*N,:]@eta)==0,\n",
    "#np.array([[0, 0, 0, 0, 1, 0, 0]])@(cp.reshape(epsilon_k[:,N-1], (7,1))+psi[7*N-7:7*N,:]@eta)==0,\n",
    "#np.array([[0, 0, 0, 0, 0, 1, 0]])@(cp.reshape(epsilon_k[:,N-1], (7,1))+psi[7*N-7:7*N,:]@eta)==0,\n",
    "a = multiply(psi[7*N-7:7*N,:],eta)\n",
    "b = epsilon_k[:,N-1, np.newaxis]+a\n",
    "d1 = np.array([[0, 0, 0, 1, 0, 0, 0]])\n",
    "d2 = np.array([[0, 0, 0, 0, 1, 0, 0]])\n",
    "d3 = np.array([[0, 0, 0, 0, 0, 1, 0]])\n",
    "c1 = multiply(d1,b)\n",
    "c2 = multiply(d2,b)\n",
    "c3 = multiply(d3,b)\n",
    "v_const = [\n",
    "    c1[0,0]==0,\n",
    "    c2[0,0]==0,\n",
    "    c3[0,0]==0,\n",
    "]"
   ]
  },
  {
   "cell_type": "code",
   "execution_count": 26,
   "id": "b6fa7a5d",
   "metadata": {},
   "outputs": [],
   "source": [
    "# Convexified Thrust Constraint\n",
    "#Conv_const = []\n",
    "#for k in range(N):\n",
    "#    Conv_const.append(cp.norm(E_u@upsilon[4*k:4*k+4,:]@eta,2) <= e_sigma@upsilon[4*k:4*k+4,:]@eta) \n",
    "#    #cp.norm(E_u@upsilon[4*k:4*k+4,:]@eta,2)<=e_sigma@upsilon[4*k:4*k+4,:]@eta\n",
    "Conv_const = [\n",
    "      cp.SOC(e_sigma@upsilon[4*k:4*k+4,:]@eta, E_u@upsilon[4*k:4*k+4,:]@eta) for k in range(N)\n",
    "]"
   ]
  },
  {
   "cell_type": "code",
   "execution_count": 27,
   "id": "50500c3b",
   "metadata": {},
   "outputs": [],
   "source": [
    "def list_dot_product(v1, v2):\n",
    "    v3 = 0\n",
    "    for i in range(len(v1)):\n",
    "        v3 += v1[i] * v2[i]\n",
    "    return v3"
   ]
  },
  {
   "cell_type": "code",
   "execution_count": 28,
   "id": "2bbd9748",
   "metadata": {
    "scrolled": true
   },
   "outputs": [
    {
     "name": "stdout",
     "output_type": "stream",
     "text": [
      "h3.shape = (7, 1)\n",
      "h1.shape = ()\n",
      "h.shape = ()\n",
      "thr_const for iter:9\n"
     ]
    }
   ],
   "source": [
    "# thrust constraints\n",
    "thr_const = [mu_1[0,0]*(1-(F@y0-Z0[0,0])+0.5*(F@y0-Z0[0,0])**2)<=e_sigma@upsilon[0:4,:]@eta,\n",
    "            e_sigma@upsilon[0:4,:]@eta<=mu_2[0,0]*(1-(F@y0-Z0[0,0]))]\n",
    "N = 55\n",
    "for k in range(9,10):\n",
    "    h3 = multiply(psi[7*k:7*(k+1),:],eta)\n",
    "    print(f'h3.shape = {h3.shape}')\n",
    "#     h1 = multiply(F,epsilon_k[:,k, np.newaxis]+h3)[0,0]-Z0[k+1,0]\n",
    "    h1 = list_dot_product(F.squeeze(),(epsilon_k[:,k, np.newaxis]+h3)[:,0])-Z0[k+1,0]\n",
    "    print(f'h1.shape = {h1.shape}')\n",
    "    h = 1-h1+0.5*(h1**2)\n",
    "    print(f'h.shape = {h.shape}')\n",
    "    thr_const.append(mu_1[0,k+1]*h<=e_sigma@upsilon[4*k:4*k+4,:]@eta)\n",
    "    print(f'thr_const for iter:{k}')\n",
    "    #---------\n",
    "    #h2 = epsilon_k[:,k,np.newaxis]+h3\n",
    "    #print(f'h2.shape = {h2.shape}')\n",
    "    #print(f'F.shape = {F.shape}')\n",
    "    #h4 = multiply(F,h2)\n",
    "    #print(f'h4.shape = {h4.shape}')\n",
    "    #h4[0,0]-Z0[k+1,0]\n",
    "    \n",
    "    #thr_const.append(e_sigma@upsilon[4*k:4*k+4,:]@eta<=mu_2[0,k+1]*(1-h2))\n",
    "\n",
    "    \n",
    "    \n",
    "    \n",
    "    \n",
    "#thr_const.append(mu_1[0,k+1]*(1-(F.reshape((1,7))@(cp.reshape(epsilon_k[:,k],(7,1))+psi[7*k:7*(k+1),:]@eta)-Z0[k+1,0])+0.5*(F.reshape((1,7))@(cp.reshape(epsilon_k[:,k],(7,1))+psi[7*k:7*(k+1),:]@eta)-Z0[k+1,0])**2)<=e_sigma@upsilon[4*k:4*k+4,:]@eta)\n",
    "#thr_const.append(e_sigma@upsilon[4*k:4*k+4,:]@eta<=mu_2[0,k+1]*(1-(F.reshape((1,7))@(cp.reshape(epsilon_k[:,k],(7,1))+psi[7*k:7*(k+1),:]@eta)-Z0[k+1,0])))"
   ]
  },
  {
   "cell_type": "code",
   "execution_count": 29,
   "id": "c10dbe0d",
   "metadata": {},
   "outputs": [
    {
     "data": {
      "text/plain": [
       "array([[Expression(CONSTANT, UNKNOWN, ())],\n",
       "       [Expression(CONSTANT, NONNEGATIVE, ())],\n",
       "       [Expression(CONSTANT, NONNEGATIVE, ())],\n",
       "       [Expression(CONSTANT, NONPOSITIVE, ())],\n",
       "       [Expression(CONSTANT, NONNEGATIVE, ())],\n",
       "       [Expression(CONSTANT, NONNEGATIVE, ())],\n",
       "       [Expression(CONSTANT, NONNEGATIVE, ())]], dtype=object)"
      ]
     },
     "execution_count": 29,
     "metadata": {},
     "output_type": "execute_result"
    }
   ],
   "source": [
    "epsilon_k[:,k, np.newaxis]"
   ]
  },
  {
   "cell_type": "code",
   "execution_count": 30,
   "id": "fd67b759",
   "metadata": {},
   "outputs": [
    {
     "data": {
      "text/plain": [
       "Inequality(Expression(CONVEX, UNKNOWN, ()))"
      ]
     },
     "execution_count": 30,
     "metadata": {},
     "output_type": "execute_result"
    }
   ],
   "source": [
    "mu_1[0,k+1]*h<=e_sigma@upsilon[4*k:4*k+4,:]@eta"
   ]
  },
  {
   "cell_type": "code",
   "execution_count": 31,
   "id": "2ed8c73a",
   "metadata": {},
   "outputs": [
    {
     "data": {
      "text/plain": [
       "Expression(CONVEX, UNKNOWN, ())"
      ]
     },
     "execution_count": 31,
     "metadata": {},
     "output_type": "execute_result"
    }
   ],
   "source": [
    "mu_1[0,k+1]*h"
   ]
  },
  {
   "cell_type": "code",
   "execution_count": 32,
   "id": "172bbc06",
   "metadata": {},
   "outputs": [
    {
     "data": {
      "text/plain": [
       "Expression(AFFINE, UNKNOWN, (1,))"
      ]
     },
     "execution_count": 32,
     "metadata": {},
     "output_type": "execute_result"
    }
   ],
   "source": [
    "e_sigma@upsilon[4*k:4*k+4,:]@eta"
   ]
  },
  {
   "cell_type": "code",
   "execution_count": 33,
   "id": "7f1b3fb1",
   "metadata": {},
   "outputs": [
    {
     "ename": "ValueError",
     "evalue": "setting an array element with a sequence.",
     "output_type": "error",
     "traceback": [
      "\u001b[0;31m---------------------------------------------------------------------------\u001b[0m",
      "\u001b[0;31mTypeError\u001b[0m                                 Traceback (most recent call last)",
      "\u001b[0;31mTypeError\u001b[0m: float() argument must be a string or a number, not 'AddExpression'",
      "\nThe above exception was the direct cause of the following exception:\n",
      "\u001b[0;31mValueError\u001b[0m                                Traceback (most recent call last)",
      "Cell \u001b[0;32mIn[33], line 4\u001b[0m\n\u001b[1;32m      2\u001b[0m f_const \u001b[38;5;241m=\u001b[39m []\n\u001b[1;32m      3\u001b[0m \u001b[38;5;28;01mfor\u001b[39;00m k \u001b[38;5;129;01min\u001b[39;00m \u001b[38;5;28mrange\u001b[39m(\u001b[38;5;241m0\u001b[39m,N):\n\u001b[0;32m----> 4\u001b[0m     f_const\u001b[38;5;241m.\u001b[39mappend(F\u001b[38;5;241m.\u001b[39mreshape((\u001b[38;5;241m1\u001b[39m,\u001b[38;5;241m7\u001b[39m))\u001b[38;5;241m@\u001b[39m(\u001b[43mcp\u001b[49m\u001b[38;5;241;43m.\u001b[39;49m\u001b[43mreshape\u001b[49m\u001b[43m(\u001b[49m\u001b[43mepsilon_k\u001b[49m\u001b[43m[\u001b[49m\u001b[43m:\u001b[49m\u001b[43m,\u001b[49m\u001b[43mk\u001b[49m\u001b[43m]\u001b[49m\u001b[43m,\u001b[49m\u001b[43m(\u001b[49m\u001b[38;5;241;43m7\u001b[39;49m\u001b[43m,\u001b[49m\u001b[38;5;241;43m1\u001b[39;49m\u001b[43m)\u001b[49m\u001b[43m)\u001b[49m\u001b[38;5;241m+\u001b[39mpsi[\u001b[38;5;241m7\u001b[39m\u001b[38;5;241m*\u001b[39mk:\u001b[38;5;241m7\u001b[39m\u001b[38;5;241m*\u001b[39m(k\u001b[38;5;241m+\u001b[39m\u001b[38;5;241m1\u001b[39m),:]\u001b[38;5;129m@eta\u001b[39m)\u001b[38;5;241m<\u001b[39m\u001b[38;5;241m=\u001b[39mcp\u001b[38;5;241m.\u001b[39mlog(m_wet\u001b[38;5;241m-\u001b[39malpha\u001b[38;5;241m*\u001b[39mn\u001b[38;5;241m*\u001b[39mT1\u001b[38;5;241m*\u001b[39mmath\u001b[38;5;241m.\u001b[39mcos(phii)\u001b[38;5;241m*\u001b[39mtime_step\u001b[38;5;241m*\u001b[39m(k\u001b[38;5;241m+\u001b[39m\u001b[38;5;241m1\u001b[39m)))\n\u001b[1;32m      5\u001b[0m     f_const\u001b[38;5;241m.\u001b[39mappend(cp\u001b[38;5;241m.\u001b[39mlog(m_wet\u001b[38;5;241m-\u001b[39malpha\u001b[38;5;241m*\u001b[39mn\u001b[38;5;241m*\u001b[39mT2\u001b[38;5;241m*\u001b[39mmath\u001b[38;5;241m.\u001b[39mcos(phii)\u001b[38;5;241m*\u001b[39mtime_step\u001b[38;5;241m*\u001b[39m(k\u001b[38;5;241m+\u001b[39m\u001b[38;5;241m1\u001b[39m))\u001b[38;5;241m<\u001b[39m\u001b[38;5;241m=\u001b[39mF\u001b[38;5;241m.\u001b[39mreshape((\u001b[38;5;241m1\u001b[39m,\u001b[38;5;241m7\u001b[39m))\u001b[38;5;241m@\u001b[39m(cp\u001b[38;5;241m.\u001b[39mreshape(epsilon_k[:,k],(\u001b[38;5;241m7\u001b[39m,\u001b[38;5;241m1\u001b[39m))\u001b[38;5;241m+\u001b[39mpsi[\u001b[38;5;241m7\u001b[39m\u001b[38;5;241m*\u001b[39mk:\u001b[38;5;241m7\u001b[39m\u001b[38;5;241m*\u001b[39m(k\u001b[38;5;241m+\u001b[39m\u001b[38;5;241m1\u001b[39m),:]\u001b[38;5;129m@eta\u001b[39m))\n",
      "File \u001b[0;32m~/opt/anaconda3/envs/aerospace/lib/python3.9/site-packages/cvxpy/atoms/affine/reshape.py:54\u001b[0m, in \u001b[0;36mreshape.__init__\u001b[0;34m(self, expr, shape, order)\u001b[0m\n\u001b[1;32m     52\u001b[0m \u001b[38;5;28;01massert\u001b[39;00m order \u001b[38;5;129;01min\u001b[39;00m [\u001b[38;5;124m'\u001b[39m\u001b[38;5;124mF\u001b[39m\u001b[38;5;124m'\u001b[39m, \u001b[38;5;124m'\u001b[39m\u001b[38;5;124mC\u001b[39m\u001b[38;5;124m'\u001b[39m]\n\u001b[1;32m     53\u001b[0m \u001b[38;5;28mself\u001b[39m\u001b[38;5;241m.\u001b[39morder \u001b[38;5;241m=\u001b[39m order\n\u001b[0;32m---> 54\u001b[0m \u001b[38;5;28;43msuper\u001b[39;49m\u001b[43m(\u001b[49m\u001b[43mreshape\u001b[49m\u001b[43m,\u001b[49m\u001b[43m \u001b[49m\u001b[38;5;28;43mself\u001b[39;49m\u001b[43m)\u001b[49m\u001b[38;5;241;43m.\u001b[39;49m\u001b[38;5;21;43m__init__\u001b[39;49m\u001b[43m(\u001b[49m\u001b[43mexpr\u001b[49m\u001b[43m)\u001b[49m\n",
      "File \u001b[0;32m~/opt/anaconda3/envs/aerospace/lib/python3.9/site-packages/cvxpy/atoms/atom.py:49\u001b[0m, in \u001b[0;36mAtom.__init__\u001b[0;34m(self, *args)\u001b[0m\n\u001b[1;32m     45\u001b[0m     \u001b[38;5;28;01mraise\u001b[39;00m \u001b[38;5;167;01mTypeError\u001b[39;00m(\n\u001b[1;32m     46\u001b[0m         \u001b[38;5;124m\"\u001b[39m\u001b[38;5;124mNo arguments given to \u001b[39m\u001b[38;5;132;01m%s\u001b[39;00m\u001b[38;5;124m.\u001b[39m\u001b[38;5;124m\"\u001b[39m \u001b[38;5;241m%\u001b[39m \u001b[38;5;28mself\u001b[39m\u001b[38;5;241m.\u001b[39m\u001b[38;5;18m__class__\u001b[39m\u001b[38;5;241m.\u001b[39m\u001b[38;5;18m__name__\u001b[39m\n\u001b[1;32m     47\u001b[0m     )\n\u001b[1;32m     48\u001b[0m \u001b[38;5;66;03m# Convert raw values to Constants.\u001b[39;00m\n\u001b[0;32m---> 49\u001b[0m \u001b[38;5;28mself\u001b[39m\u001b[38;5;241m.\u001b[39margs \u001b[38;5;241m=\u001b[39m [Atom\u001b[38;5;241m.\u001b[39mcast_to_const(arg) \u001b[38;5;28;01mfor\u001b[39;00m arg \u001b[38;5;129;01min\u001b[39;00m args]\n\u001b[1;32m     50\u001b[0m \u001b[38;5;28mself\u001b[39m\u001b[38;5;241m.\u001b[39mvalidate_arguments()\n\u001b[1;32m     51\u001b[0m \u001b[38;5;28mself\u001b[39m\u001b[38;5;241m.\u001b[39m_shape \u001b[38;5;241m=\u001b[39m \u001b[38;5;28mself\u001b[39m\u001b[38;5;241m.\u001b[39mshape_from_args()\n",
      "File \u001b[0;32m~/opt/anaconda3/envs/aerospace/lib/python3.9/site-packages/cvxpy/atoms/atom.py:49\u001b[0m, in \u001b[0;36m<listcomp>\u001b[0;34m(.0)\u001b[0m\n\u001b[1;32m     45\u001b[0m     \u001b[38;5;28;01mraise\u001b[39;00m \u001b[38;5;167;01mTypeError\u001b[39;00m(\n\u001b[1;32m     46\u001b[0m         \u001b[38;5;124m\"\u001b[39m\u001b[38;5;124mNo arguments given to \u001b[39m\u001b[38;5;132;01m%s\u001b[39;00m\u001b[38;5;124m.\u001b[39m\u001b[38;5;124m\"\u001b[39m \u001b[38;5;241m%\u001b[39m \u001b[38;5;28mself\u001b[39m\u001b[38;5;241m.\u001b[39m\u001b[38;5;18m__class__\u001b[39m\u001b[38;5;241m.\u001b[39m\u001b[38;5;18m__name__\u001b[39m\n\u001b[1;32m     47\u001b[0m     )\n\u001b[1;32m     48\u001b[0m \u001b[38;5;66;03m# Convert raw values to Constants.\u001b[39;00m\n\u001b[0;32m---> 49\u001b[0m \u001b[38;5;28mself\u001b[39m\u001b[38;5;241m.\u001b[39margs \u001b[38;5;241m=\u001b[39m [\u001b[43mAtom\u001b[49m\u001b[38;5;241;43m.\u001b[39;49m\u001b[43mcast_to_const\u001b[49m\u001b[43m(\u001b[49m\u001b[43marg\u001b[49m\u001b[43m)\u001b[49m \u001b[38;5;28;01mfor\u001b[39;00m arg \u001b[38;5;129;01min\u001b[39;00m args]\n\u001b[1;32m     50\u001b[0m \u001b[38;5;28mself\u001b[39m\u001b[38;5;241m.\u001b[39mvalidate_arguments()\n\u001b[1;32m     51\u001b[0m \u001b[38;5;28mself\u001b[39m\u001b[38;5;241m.\u001b[39m_shape \u001b[38;5;241m=\u001b[39m \u001b[38;5;28mself\u001b[39m\u001b[38;5;241m.\u001b[39mshape_from_args()\n",
      "File \u001b[0;32m~/opt/anaconda3/envs/aerospace/lib/python3.9/site-packages/cvxpy/expressions/expression.py:507\u001b[0m, in \u001b[0;36mExpression.cast_to_const\u001b[0;34m(expr)\u001b[0m\n\u001b[1;32m    502\u001b[0m         \u001b[38;5;28;01mif\u001b[39;00m \u001b[38;5;28misinstance\u001b[39m(elem, Expression):\n\u001b[1;32m    503\u001b[0m             \u001b[38;5;28;01mraise\u001b[39;00m \u001b[38;5;167;01mValueError\u001b[39;00m(\n\u001b[1;32m    504\u001b[0m                 \u001b[38;5;124m\"\u001b[39m\u001b[38;5;124mThe input must be a single CVXPY Expression, not a list. \u001b[39m\u001b[38;5;124m\"\u001b[39m\n\u001b[1;32m    505\u001b[0m                 \u001b[38;5;124m\"\u001b[39m\u001b[38;5;124mCombine Expressions using atoms such as bmat, hstack, and vstack.\u001b[39m\u001b[38;5;124m\"\u001b[39m\n\u001b[1;32m    506\u001b[0m             )\n\u001b[0;32m--> 507\u001b[0m \u001b[38;5;28;01mreturn\u001b[39;00m expr \u001b[38;5;28;01mif\u001b[39;00m \u001b[38;5;28misinstance\u001b[39m(expr, Expression) \u001b[38;5;28;01melse\u001b[39;00m \u001b[43mcvxtypes\u001b[49m\u001b[38;5;241;43m.\u001b[39;49m\u001b[43mconstant\u001b[49m\u001b[43m(\u001b[49m\u001b[43m)\u001b[49m\u001b[43m(\u001b[49m\u001b[43mexpr\u001b[49m\u001b[43m)\u001b[49m\n",
      "File \u001b[0;32m~/opt/anaconda3/envs/aerospace/lib/python3.9/site-packages/cvxpy/expressions/constants/constant.py:48\u001b[0m, in \u001b[0;36mConstant.__init__\u001b[0;34m(self, value)\u001b[0m\n\u001b[1;32m     46\u001b[0m     \u001b[38;5;28mself\u001b[39m\u001b[38;5;241m.\u001b[39m_sparse \u001b[38;5;241m=\u001b[39m \u001b[38;5;28;01mTrue\u001b[39;00m\n\u001b[1;32m     47\u001b[0m \u001b[38;5;28;01melse\u001b[39;00m:\n\u001b[0;32m---> 48\u001b[0m     \u001b[38;5;28mself\u001b[39m\u001b[38;5;241m.\u001b[39m_value \u001b[38;5;241m=\u001b[39m \u001b[43mintf\u001b[49m\u001b[38;5;241;43m.\u001b[39;49m\u001b[43mDEFAULT_INTF\u001b[49m\u001b[38;5;241;43m.\u001b[39;49m\u001b[43mconst_to_matrix\u001b[49m\u001b[43m(\u001b[49m\u001b[43mvalue\u001b[49m\u001b[43m)\u001b[49m\n\u001b[1;32m     49\u001b[0m     \u001b[38;5;28mself\u001b[39m\u001b[38;5;241m.\u001b[39m_sparse \u001b[38;5;241m=\u001b[39m \u001b[38;5;28;01mFalse\u001b[39;00m\n\u001b[1;32m     50\u001b[0m \u001b[38;5;28mself\u001b[39m\u001b[38;5;241m.\u001b[39m_imag: Optional[\u001b[38;5;28mbool\u001b[39m] \u001b[38;5;241m=\u001b[39m \u001b[38;5;28;01mNone\u001b[39;00m\n",
      "File \u001b[0;32m~/opt/anaconda3/envs/aerospace/lib/python3.9/site-packages/cvxpy/interface/numpy_interface/ndarray_interface.py:53\u001b[0m, in \u001b[0;36mNDArrayInterface.const_to_matrix\u001b[0;34m(self, value, convert_scalars)\u001b[0m\n\u001b[1;32m     51\u001b[0m     \u001b[38;5;28;01mreturn\u001b[39;00m result\n\u001b[1;32m     52\u001b[0m \u001b[38;5;28;01melse\u001b[39;00m:\n\u001b[0;32m---> 53\u001b[0m     \u001b[38;5;28;01mreturn\u001b[39;00m \u001b[43mresult\u001b[49m\u001b[38;5;241;43m.\u001b[39;49m\u001b[43mastype\u001b[49m\u001b[43m(\u001b[49m\u001b[43mnumpy\u001b[49m\u001b[38;5;241;43m.\u001b[39;49m\u001b[43mfloat64\u001b[49m\u001b[43m)\u001b[49m\n",
      "\u001b[0;31mValueError\u001b[0m: setting an array element with a sequence."
     ]
    }
   ],
   "source": [
    "# Fuel mass constraints\n",
    "f_const = []\n",
    "for k in range(0,N):\n",
    "    f_const.append(F.reshape((1,7))@(cp.reshape(epsilon_k[:,k],(7,1))+psi[7*k:7*(k+1),:]@eta)<=cp.log(m_wet-alpha*n*T1*math.cos(phii)*time_step*(k+1)))\n",
    "    f_const.append(cp.log(m_wet-alpha*n*T2*math.cos(phii)*time_step*(k+1))<=F.reshape((1,7))@(cp.reshape(epsilon_k[:,k],(7,1))+psi[7*k:7*(k+1),:]@eta))\n"
   ]
  },
  {
   "cell_type": "code",
   "execution_count": null,
   "id": "0e57ccf5",
   "metadata": {},
   "outputs": [],
   "source": [
    "print(f_const[0])"
   ]
  },
  {
   "cell_type": "code",
   "execution_count": null,
   "id": "208948bb",
   "metadata": {},
   "outputs": [],
   "source": [
    "# Cone constraints\n",
    "cone_const = [cp.norm(np.array([[0, 1, 0],[0, 0, 1]])@np.concatenate((np.identity(3),np.zeros((3,4))),axis=1)@(cp.reshape(epsilon_k[:,k],(7,1))+psi[7*k:7*(k+1),:]@eta),2)+np.array([[-0.268, 0, 0, 0, 0, 0, 0]])@(cp.reshape(epsilon_k[:,k],(7,1))+psi[7*k:7*(k+1),:]@eta)<=0]\n"
   ]
  },
  {
   "cell_type": "code",
   "execution_count": null,
   "id": "9204c047",
   "metadata": {
    "scrolled": true
   },
   "outputs": [],
   "source": [
    "socp_constraints = constraints + Conv_const + thr_const + h_const + v_const + cone_const + f_const + cone_const\n",
    "\n",
    "prob = cp.Problem(obj, socp_constraints)\n",
    "prob.solve()\n",
    "#print(obj.value)\n",
    "print(prob.status)\n",
    "print(\"Problem is dpp:\",prob.is_dpp())\n",
    "print(\"Problem is dcp:\",prob.is_dcp())\n",
    "#prob.solve()\n",
    "#print(prob.parameters)"
   ]
  },
  {
   "cell_type": "code",
   "execution_count": null,
   "id": "31495990",
   "metadata": {},
   "outputs": [],
   "source": [
    "cvxpylayer = CvxpyLayer(prob, parameters=[alpha], variables=[eta])\n",
    "alpha_tch = torch.randn(requires_grad=True)\n",
    "solution = cvxpylayer(alpha_tch)\n",
    "solution.backward()\n",
    "\n",
    "#print(obj.value)\n",
    "#print(prob.status)\n",
    "#print(alpha.value)\n",
    "print(alpha.gradient)\n",
    "\n",
    "#prob.solve(requires_grad=True)\n",
    "#prob.backward()              #backpropagate through solution\n",
    "#print(alpha.gradient)\n"
   ]
  },
  {
   "cell_type": "code",
   "execution_count": null,
   "id": "0ba0ceff",
   "metadata": {},
   "outputs": [],
   "source": [
    "#     Output Information\n",
    "# Converting output into manageable format\n",
    "display_position = np.zeros((3,N+1))\n",
    "display_velocity = np.zeros((3,N+1))\n",
    "display_netthrust = np.zeros((3,N+1))\n",
    "display_thrust = np.zeros((3,N+1))\n",
    "display_allthrust = np.zeros((1,N+1))\n",
    "display_allvelocity = np.zeros((1,N+1))\n",
    "display_position[0:3, 0] = position_0\n",
    "display_velocity[0:3, 0] = velocity_0\n",
    "mass = np.zeros((1,N+1))\n",
    "mass[0] = m_wet"
   ]
  },
  {
   "cell_type": "code",
   "execution_count": null,
   "id": "535c8928",
   "metadata": {},
   "outputs": [],
   "source": [
    "\n",
    "for k in range(0,N):\n",
    "    v = (epsilon_k[:,k].reshape((7,1))+psi[7*k:7*(k+1),:]@eta.value)\n",
    "    display_position[:,k+1] = (np.concatenate((np.identity(3), np.zeros((3,4))), axis=1)@v).reshape((3,))\n",
    "    temp = np.concatenate((np.zeros((3,3)), np.identity(3)), axis=1)\n",
    "    display_velocity[:,k+1] = (np.concatenate((temp, np.zeros((3,1))), axis=1)@v).reshape(3,)\n",
    "    mass[0,k+1] = np.array([[0, 0, 0, 0, 0, 0, 1]])@v\n",
    "    mass[0,k+1] = np.exp(mass[0,k+1])\n",
    "\n",
    "for k in range(0,N):\n",
    "    display_netthrust[:,k+1] = (np.concatenate((np.identity(3), np.zeros((3,1))), axis=1)@(upsilon[4*k:4*k+4,:]@eta.value)).reshape(3,)\n",
    "    display_thrust[:,k+1] = display_netthrust[:,k+1]\n",
    "    display_netthrust[:,k+1] = display_netthrust[:,k+1]*mass[0,k+1]\n",
    "    #display_allthrust[0,k+1] = cp.norm(display_thrust[0:3,k+1],2)*mass[0,k+1]\n",
    "    #display_allvelocity[0,k+1] = cp.norm(display_velocity[0:3,k+1],2)\n"
   ]
  },
  {
   "cell_type": "code",
   "execution_count": null,
   "id": "8e94f23a",
   "metadata": {},
   "outputs": [],
   "source": [
    "plt.plot(display_position[0,:],label=\"X\")\n",
    "plt.plot(display_position[1,:],label=\"Y\")\n",
    "plt.plot(display_position[2,:],label=\"Z\")\n",
    "plt.legend(loc=\"upper left\")"
   ]
  },
  {
   "cell_type": "code",
   "execution_count": null,
   "id": "e6e1ed42",
   "metadata": {},
   "outputs": [],
   "source": [
    "plt.plot(display_netthrust[0,:],label=\"X\")\n",
    "plt.plot(display_netthrust[1,:],label=\"Y\")\n",
    "plt.plot(display_netthrust[2,:],label=\"Z\")\n",
    "plt.legend(loc=\"upper left\")"
   ]
  },
  {
   "cell_type": "code",
   "execution_count": null,
   "id": "60b57495",
   "metadata": {},
   "outputs": [],
   "source": [
    "m1 = plt.subplot(2,1,1)\n",
    "m2 = plt.subplot(2,1,2)\n",
    "m1.plot(mass[0,:],label=\"Z\")\n",
    "\n",
    "m2.plot(mass[0,50:52],label=\"Z\")"
   ]
  },
  {
   "cell_type": "code",
   "execution_count": null,
   "id": "d3c3dfd7",
   "metadata": {},
   "outputs": [],
   "source": []
  }
 ],
 "metadata": {
  "kernelspec": {
   "display_name": "Python 3 (ipykernel)",
   "language": "python",
   "name": "python3"
  },
  "language_info": {
   "codemirror_mode": {
    "name": "ipython",
    "version": 3
   },
   "file_extension": ".py",
   "mimetype": "text/x-python",
   "name": "python",
   "nbconvert_exporter": "python",
   "pygments_lexer": "ipython3",
   "version": "3.9.15"
  }
 },
 "nbformat": 4,
 "nbformat_minor": 5
}
