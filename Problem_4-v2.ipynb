{
 "cells": [
  {
   "cell_type": "code",
   "execution_count": 1,
   "id": "6c788add",
   "metadata": {},
   "outputs": [
    {
     "name": "stderr",
     "output_type": "stream",
     "text": [
      "2023-01-01 23:31:52.579476: I tensorflow/core/platform/cpu_feature_guard.cc:193] This TensorFlow binary is optimized with oneAPI Deep Neural Network Library (oneDNN) to use the following CPU instructions in performance-critical operations:  AVX2 FMA\n",
      "To enable them in other operations, rebuild TensorFlow with the appropriate compiler flags.\n"
     ]
    }
   ],
   "source": [
    "# Import packages.\n",
    "import cvxpy as cp\n",
    "import numpy as np\n",
    "import math\n",
    "from scipy.linalg import expm\n",
    "import matplotlib.pyplot as plt\n",
    "# import torch\n",
    "# from cvxpylayers.torch import CvxpyLayer\n",
    "import tensorflow as tf\n",
    "from cvxpylayers.tensorflow import CvxpyLayer\n",
    "\n",
    "# Configure the display settings\n",
    "np.set_printoptions(edgeitems=30, linewidth=125, \n",
    "    formatter=dict(float=lambda x: \"%3.3f\" % x))"
   ]
  },
  {
   "cell_type": "code",
   "execution_count": 2,
   "id": "ef802db3",
   "metadata": {},
   "outputs": [],
   "source": [
    "# Parameter Initialization\n",
    "# Background Parameter\n",
    "g=[-3.7114, 0, 0]\n",
    "pi = math.pi\n",
    "m_dry=1505\n",
    "m_wet=1905\n",
    "I_sp=225\n",
    "T1=930\n",
    "T2=2480\n",
    "n=6\n",
    "phii=27*2*pi/360\n",
    "alpha_val=6.293e-4\n",
    "# alpha_val=5.09e-4\n",
    "alpha = cp.Parameter(name=\"alpha\", value=6.293e-4, nonneg=True)\n",
    "#alphas = np.logspace(0, 0.01, 200)"
   ]
  },
  {
   "cell_type": "code",
   "execution_count": 3,
   "id": "7ef7f3c2",
   "metadata": {},
   "outputs": [],
   "source": [
    "# Optimal t_f and N\n",
    "t_f=68\n",
    "N=55\n",
    "time_step=t_f/N\n",
    "t_vec = np.linspace(0,t_f,N+1)\n",
    "#Initial State\n",
    "position_0=[3000, 1000, 2000]\n",
    "velocity_0=[-50,10,100]\n",
    "y0=np.array([position_0 + velocity_0 + [np.log(m_wet)]]).T\n",
    "#print(y0, y0.shape)"
   ]
  },
  {
   "cell_type": "code",
   "execution_count": 4,
   "id": "ee47495a",
   "metadata": {},
   "outputs": [],
   "source": [
    "# Define A_c Matrix\n",
    "A_c1 = np.concatenate((np.zeros((3,3)), np.identity(3)), axis=1)\n",
    "A_c2 = np.concatenate((A_c1, np.zeros((3,1))), axis=1)\n",
    "A_c = np.concatenate((A_c2, np.zeros((4,7))), axis=0)\n",
    "#print(A_c,A_c.shape)"
   ]
  },
  {
   "cell_type": "code",
   "execution_count": 5,
   "id": "a668f3fa",
   "metadata": {},
   "outputs": [
    {
     "name": "stdout",
     "output_type": "stream",
     "text": [
      "[[0.0 0.0 0.0 0.0]\n",
      " [0.0 0.0 0.0 0.0]\n",
      " [0.0 0.0 0.0 0.0]\n",
      " [1.0 0.0 0.0 0.0]\n",
      " [0.0 1.0 0.0 0.0]\n",
      " [0.0 0.0 1.0 0.0]\n",
      " [0 0 0 Expression(CONSTANT, NONPOSITIVE, ())]] (7, 4)\n"
     ]
    }
   ],
   "source": [
    "# Define B_c Matrix\n",
    "B_c1 = np.concatenate((np.zeros((3,3)), np.identity(3)),axis=0)\n",
    "B_c2 = np.concatenate((B_c1, np.zeros((6,1))),axis=1)\n",
    "B_c = np.concatenate((B_c2, np.array([[0,0,0,-alpha]])), axis=0)\n",
    "print(B_c,B_c.shape)"
   ]
  },
  {
   "cell_type": "code",
   "execution_count": 6,
   "id": "3091c4ba",
   "metadata": {},
   "outputs": [
    {
     "name": "stdout",
     "output_type": "stream",
     "text": [
      "A= [[1.000 0.000 0.000 1.236 0.000 0.000 0.000]\n",
      " [0.000 1.000 0.000 0.000 1.236 0.000 0.000]\n",
      " [0.000 0.000 1.000 0.000 0.000 1.236 0.000]\n",
      " [0.000 0.000 0.000 1.000 0.000 0.000 0.000]\n",
      " [0.000 0.000 0.000 0.000 1.000 0.000 0.000]\n",
      " [0.000 0.000 0.000 0.000 0.000 1.000 0.000]\n",
      " [0.000 0.000 0.000 0.000 0.000 0.000 1.000]] (7, 7)\n",
      "B= [[0.7643 0 0 0]\n",
      " [0 0.7643 0 0]\n",
      " [0 0 0.7643 0]\n",
      " [1.2364 0 0 0]\n",
      " [0 1.2364 0 0]\n",
      " [0 0 1.2364 0]\n",
      " [0 0 0 Expression(CONSTANT, NONPOSITIVE, ())]] (7, 4)\n",
      "<class 'numpy.ndarray'>\n"
     ]
    }
   ],
   "source": [
    "# Define A & B Matrix\n",
    "\"\"\"\n",
    "  Work on this later!!!\n",
    "  use SciPy\n",
    "  \n",
    "[A,B]=c2d(A_c,B_c,time_step);% A 7*7 ;B 7*4\n",
    "\"\"\"\n",
    "\n",
    "\n",
    "\n",
    "A = np.array([[1, 0, 0, 1.2364, 0, 0, 0],\n",
    "              [0, 1, 0, 0, 1.2364, 0, 0],\n",
    "              [0, 0, 1, 0, 0, 1.2364, 0],\n",
    "              [0, 0, 0, 1, 0, 0, 0],\n",
    "              [0, 0, 0, 0, 1, 0, 0],\n",
    "              [0, 0, 0, 0, 0, 1, 0],\n",
    "              [0, 0, 0, 0, 0, 0, 1]\n",
    "\n",
    "])\n",
    "print(\"A=\", A, A.shape)\n",
    "\n",
    "B = np.array([[0.7643, 0, 0, 0],\n",
    "          [0, 0.7643, 0, 0],\n",
    "          [0, 0, 0.7643, 0],\n",
    "          [1.2364, 0, 0, 0],\n",
    "          [0, 1.2364, 0, 0],\n",
    "          [0, 0, 1.2364, 0],\n",
    "          [0, 0, 0, -alpha]])\n",
    "print(\"B=\", B, B.shape)\n",
    "print(type(B))"
   ]
  },
  {
   "cell_type": "code",
   "execution_count": 7,
   "id": "fdc7222a",
   "metadata": {},
   "outputs": [
    {
     "name": "stdout",
     "output_type": "stream",
     "text": [
      "(385, 224)\n"
     ]
    }
   ],
   "source": [
    "psi = np.concatenate((B, np.zeros([7,N*4])),axis=1)\n",
    "psi_prev = psi\n",
    "for k in range(2,N+1):\n",
    "    psi_next=A@psi_prev\n",
    "    psi_next=np.concatenate((np.concatenate((psi_next[:,:4*(k-1)],B),axis=1),psi_next[:,4*(k-1)+4:]),axis=1)\n",
    "    # psi_next[:-1,4*(k-1)-1] = 0 # clean up TODO: this is a hardcoded fix\n",
    "    for i in range(k,1,-1):\n",
    "        psi_next[:-1,4*(i-1)-1] = 0 # clean up TODO: this is a hardcoded fix\n",
    "    psi = np.concatenate((psi, psi_next),axis=0)\n",
    "    psi_prev = psi_next\n",
    "print(psi.shape)"
   ]
  },
  {
   "cell_type": "code",
   "execution_count": 8,
   "id": "08a6c5c5",
   "metadata": {},
   "outputs": [
    {
     "name": "stdout",
     "output_type": "stream",
     "text": [
      "(7, 385)\n"
     ]
    }
   ],
   "source": [
    "# Matrix for State Computation  # A^k #(7*7N)\n",
    "phi=np.zeros((7,7*N))\n",
    "phi[:,0:7]=A\n",
    "for k in range(2,N+1):\n",
    "    phi[:,7*k-7:7*k]=A@phi[:,7*k-14:7*k-7]\n",
    "print(phi.shape)"
   ]
  },
  {
   "cell_type": "code",
   "execution_count": 9,
   "id": "e382fec7-2505-4e0c-9581-e7d056f64895",
   "metadata": {},
   "outputs": [
    {
     "data": {
      "text/plain": [
       "(7, 220)"
      ]
     },
     "execution_count": 9,
     "metadata": {},
     "output_type": "execute_result"
    }
   ],
   "source": [
    "# lambda matrix  #B+AB+......A^(k-1)B  #(7*4N)\n",
    "lam=B  \n",
    "lam_prev=B\n",
    "for k in range(2,N+1):\n",
    "    # print(\"k\",k)\n",
    "    lam_next=A@lam_prev+B\n",
    "    lam_next[:-1,-1] = 0 # clean up\n",
    "    lam = np.concatenate([lam, lam_next], axis=1)\n",
    "    lam_prev = lam_next\n",
    "lam.shape"
   ]
  },
  {
   "cell_type": "code",
   "execution_count": 10,
   "id": "5625d46b",
   "metadata": {},
   "outputs": [
    {
     "name": "stdout",
     "output_type": "stream",
     "text": [
      "(220, 224)\n"
     ]
    }
   ],
   "source": [
    "# upsilon matrix      #(4N*(4N+4))\n",
    "upsilon=np.zeros((4*N,4*N+4)) \n",
    "for k in range(1,N+1):\n",
    "    upsilon[4*k-4:4*k,4*k-4:4*k]=np.identity(4)\n",
    "print(upsilon.shape)"
   ]
  },
  {
   "cell_type": "code",
   "execution_count": 11,
   "id": "7aa2d112-82e3-492d-a032-06189741ba59",
   "metadata": {},
   "outputs": [],
   "source": [
    "# # Matrix for Optimal Computation \n",
    "# k = 0\n",
    "# Z0 = np.array(cp.log(m_wet-alpha*n*T2*math.cos(phii)*time_step*k), ndmin=2)\n",
    "# for k in range(1,N+1):\n",
    "#     Z0_new = np.array(cp.log(m_wet-alpha*n*T2*math.cos(phii)*time_step*k), ndmin=2)\n",
    "#     Z0 = np.concatenate((Z0, Z0_new), axis=0)\n",
    "# print(Z0.shape)"
   ]
  },
  {
   "cell_type": "code",
   "execution_count": 12,
   "id": "33be2841-58a1-412c-a96c-514641bf6bae",
   "metadata": {},
   "outputs": [
    {
     "name": "stdout",
     "output_type": "stream",
     "text": [
      "(56, 1)\n"
     ]
    }
   ],
   "source": [
    "# Matrix for Optimal Computation \n",
    "# https://math.stackexchange.com/a/2382470\n",
    "k = 0\n",
    "x = m_wet-alpha.value*n*T2*math.cos(phii)*time_step*k\n",
    "a = 1e5\n",
    "Z0 = np.array(a*x**(1/a) - a, ndmin=2)\n",
    "\n",
    "for k in range(1,N+1):\n",
    "    x = m_wet-alpha.value*n*T2*math.cos(phii)*time_step*k\n",
    "    Z0_new = np.array(a*x**(1/a) - a, ndmin=2)\n",
    "    Z0 = np.concatenate((Z0, Z0_new), axis=0)\n",
    "print(Z0.shape)"
   ]
  },
  {
   "cell_type": "code",
   "execution_count": 13,
   "id": "3f257d95",
   "metadata": {},
   "outputs": [
    {
     "name": "stdout",
     "output_type": "stream",
     "text": [
      "(1, 56)\n",
      "(1, 56)\n"
     ]
    }
   ],
   "source": [
    "# Matrix for Optimal Computation \n",
    "mu_1 = np.array(n*T1*math.cos(phii)*cp.exp(-Z0[0,0]), ndmin = 2)  #(1*(N+1))\n",
    "mu_2 = np.array(n*T2*math.cos(phii)*cp.exp(-Z0[0,0]), ndmin = 2)  #(1*(N+1))\n",
    "\n",
    "for k in range(1, N+1):\n",
    "    mu_1_new = np.array(n*T1*math.cos(phii)*cp.exp(-Z0[k,0]), ndmin = 2)\n",
    "    mu_2_new = np.array(n*T2*math.cos(phii)*cp.exp(-Z0[k,0]), ndmin = 2)\n",
    "    mu_1 = np.concatenate((mu_1, mu_1_new), axis = 1)\n",
    "    mu_2 = np.concatenate((mu_2, mu_2_new), axis = 1)\n",
    "print(mu_1.shape)\n",
    "print(mu_2.shape)   "
   ]
  },
  {
   "cell_type": "code",
   "execution_count": 14,
   "id": "9a527ae8",
   "metadata": {},
   "outputs": [
    {
     "name": "stdout",
     "output_type": "stream",
     "text": [
      "mu_1 shape = (1, 56)\n",
      "mu_2 shape = (1, 56)\n",
      "[Expression(CONSTANT, NONNEGATIVE, ()) Expression(CONSTANT, NONNEGATIVE, ()) Expression(CONSTANT, NONNEGATIVE, ())\n",
      " Expression(CONSTANT, NONNEGATIVE, ()) Expression(CONSTANT, NONNEGATIVE, ())]\n",
      "---------------------------------------\n",
      "[Expression(CONSTANT, NONNEGATIVE, ()) Expression(CONSTANT, NONNEGATIVE, ()) Expression(CONSTANT, NONNEGATIVE, ())\n",
      " Expression(CONSTANT, NONNEGATIVE, ()) Expression(CONSTANT, NONNEGATIVE, ())]\n"
     ]
    }
   ],
   "source": [
    "print(f'mu_1 shape = {mu_1.shape}')\n",
    "print(f'mu_2 shape = {mu_2.shape}')\n",
    "\n",
    "print(mu_1[0,:5], end=\"\\n---------------------------------------\\n\")\n",
    "print(mu_2[0,:5])"
   ]
  },
  {
   "cell_type": "code",
   "execution_count": 15,
   "id": "b0ee9988",
   "metadata": {},
   "outputs": [
    {
     "name": "stdout",
     "output_type": "stream",
     "text": [
      "(7, 55)\n"
     ]
    }
   ],
   "source": [
    "epsilon_k = phi[:,7*0:7*(0+1)]@y0+lam[:,4*0:4*(0+1)]@np.array([g + [0]]).T  #(7,1)\n",
    "for k in range(1,N):\n",
    "    temp = phi[:,7*k:7*(k+1)]@y0+lam[:,4*k:4*(k+1)]@np.array([g + [0]]).T\n",
    "    epsilon_k = np.concatenate((epsilon_k, temp), axis = 1)\n",
    "print(epsilon_k.shape)"
   ]
  },
  {
   "cell_type": "code",
   "execution_count": 16,
   "id": "026c2431",
   "metadata": {},
   "outputs": [
    {
     "name": "stdout",
     "output_type": "stream",
     "text": [
      "epsilon k shape = (7, 55)\n",
      "[-6171.981112688073 1581.1080000000006 7811.080000000007 -265.67242312000025 10.0 100.0\n",
      " Expression(CONSTANT, NONNEGATIVE, ())]\n"
     ]
    }
   ],
   "source": [
    "print(f'epsilon k shape = {epsilon_k.shape}')\n",
    "print(epsilon_k[:,46])"
   ]
  },
  {
   "cell_type": "code",
   "execution_count": 17,
   "id": "38ff1b8f",
   "metadata": {},
   "outputs": [
    {
     "name": "stdout",
     "output_type": "stream",
     "text": [
      "(1, 7)\n"
     ]
    }
   ],
   "source": [
    "e_sigma = np.array([0,0,0,1])\n",
    "#E = np.concatenate((np.identity(6), np.zeros((6,1))), axis=1)\n",
    "F = np.concatenate((np.zeros(6), np.ones(1)), axis=None).reshape((1,7))\n",
    "E_u = np.concatenate((np.identity(3), np.zeros((3,1))), axis=1)\n",
    "print(F.shape)"
   ]
  },
  {
   "cell_type": "code",
   "execution_count": 18,
   "id": "cfdd5272",
   "metadata": {},
   "outputs": [
    {
     "name": "stdout",
     "output_type": "stream",
     "text": [
      "(1, 220)\n"
     ]
    }
   ],
   "source": [
    "omega=np.zeros((1,4*N))  #1*4N\n",
    "for k in range(0,N):\n",
    "    omega[0,4*k:4*(k+1)]=e_sigma\n",
    "omega=time_step*omega\n",
    "print(omega.shape)"
   ]
  },
  {
   "cell_type": "code",
   "execution_count": 19,
   "id": "c6891271",
   "metadata": {},
   "outputs": [],
   "source": [
    "# Define and solve the CVXPY problem.\n",
    "eta = cp.Variable((4*N+4,1))\n",
    "obj = cp.Minimize(omega@eta[0:4*N,0])"
   ]
  },
  {
   "cell_type": "code",
   "execution_count": 20,
   "id": "23d72007",
   "metadata": {},
   "outputs": [],
   "source": [
    "def multiply(X, Y):\n",
    "    result = np.zeros((X.shape[0], Y.shape[1]))\n",
    "    result = result.tolist()\n",
    "    #print(f'a = {result}')\n",
    "    # iterate through rows of X\n",
    "    for i in range(X.shape[0]):\n",
    "        # iterate through columns of Y\n",
    "        for j in range(Y.shape[1]):\n",
    "            # iterate through rows of Y\n",
    "            for k in range(Y.shape[0]):\n",
    "                result[i][j] += X[i][k] * Y[k][j]\n",
    "    '''\n",
    "    a = [[0]*mat2.shape[1]] * mat1.shape[0]\n",
    "    for i in range(mat1.shape[0]):\n",
    "        for j in range(mat2.shape[1]):\n",
    "            for k in range(mat2.shape[0]):\n",
    "                a[i][j] += mat1[i][k] * mat2[k][j]\n",
    "    a = np.array(a)\n",
    "    '''\n",
    "    return np.array(result)"
   ]
  },
  {
   "cell_type": "code",
   "execution_count": 21,
   "id": "129b238f",
   "metadata": {},
   "outputs": [
    {
     "name": "stdout",
     "output_type": "stream",
     "text": [
      "[[19  2  8 18]\n",
      " [32  4 12 22]]\n",
      "[[19.000 2.000 8.000 18.000]\n",
      " [32.000 4.000 12.000 22.000]]\n"
     ]
    }
   ],
   "source": [
    "mat1 = np.array([[1, 0, 2],\n",
    "                 [0, 1, 3]])\n",
    "mat2 = np.array([[1, 0, 2, 4],\n",
    "                 [5, 1, 3, 1],\n",
    "                 [9, 1, 3, 7]])\n",
    "print(mat1@mat2)\n",
    "print(multiply(mat1, mat2))"
   ]
  },
  {
   "cell_type": "code",
   "execution_count": 22,
   "id": "6910cd92-3744-43a4-80ec-2557dd4d7fcf",
   "metadata": {},
   "outputs": [],
   "source": [
    "def list_dot_product(v1, v2):\n",
    "    v3 = 0\n",
    "    for i in range(len(v1)):\n",
    "        v3 += v1[i] * v2[i]\n",
    "    return v3"
   ]
  },
  {
   "cell_type": "code",
   "execution_count": 23,
   "id": "39c54108",
   "metadata": {},
   "outputs": [],
   "source": [
    "#  Final height constraint\n",
    "#h_const = [m@(epsilon_k[:,N-1]+psi[7*N-7:7*N,:]@eta) == np.zeros((7,1))]\n",
    "m1 = np.concatenate((np.identity(3), np.zeros((3,4))), axis=1)\n",
    "m2 = np.concatenate((np.zeros((4,3)), np.zeros((4,4))), axis=1)\n",
    "m = np.concatenate((m1, m2), axis=0)\n",
    "#print(f'm.shape = {m.shape}')\n",
    "a = multiply(psi[7*N-7:7*N,:],eta)\n",
    "#print(f'a.shape = {a.shape}')\n",
    "b = epsilon_k[:,N-1, np.newaxis]+a\n",
    "#print(f'b.shape = {b.shape}')\n",
    "c = multiply(m,b)\n",
    "#print(f'c.shape = {c.shape}')\n",
    "h_const = [i == 0 for i in c[:,0]]\n",
    "#print(h_const)"
   ]
  },
  {
   "cell_type": "code",
   "execution_count": 24,
   "id": "1f23704a-0db0-4117-945b-295ac684eff6",
   "metadata": {},
   "outputs": [
    {
     "data": {
      "text/plain": [
       "[Equality(Expression(AFFINE, UNKNOWN, (1, 1)), Constant(CONSTANT, ZERO, ())),\n",
       " Equality(Expression(AFFINE, UNKNOWN, (1, 1)), Constant(CONSTANT, ZERO, ())),\n",
       " Equality(Expression(AFFINE, UNKNOWN, (1, 1)), Constant(CONSTANT, ZERO, ()))]"
      ]
     },
     "execution_count": 24,
     "metadata": {},
     "output_type": "execute_result"
    }
   ],
   "source": [
    "#  Final velocity constraint\n",
    "a1 = np.expand_dims(epsilon_k[:,N-1],axis=1)\n",
    "a2 = multiply(psi[7*N-7:7*N,:],eta)\n",
    "\n",
    "v_const = [\n",
    "    np.array([[0, 0, 0, 1, 0, 0, 0]])@cp.vstack((a1+a2).squeeze())==0,\n",
    "    np.array([[0, 0, 0, 0, 1, 0, 0]])@cp.vstack((a1+a2).squeeze())==0,\n",
    "    np.array([[0, 0, 0, 0, 0, 1, 0]])@cp.vstack((a1+a2).squeeze())==0,\n",
    "]\n",
    "v_const"
   ]
  },
  {
   "cell_type": "code",
   "execution_count": 25,
   "id": "b6fa7a5d",
   "metadata": {},
   "outputs": [],
   "source": [
    "# Convexified Thrust Constraint\n",
    "Conv_const = [\n",
    "      cp.SOC(e_sigma@upsilon[4*k:4*k+4,:]@eta, E_u@upsilon[4*k:4*k+4,:]@eta) for k in range(N)\n",
    "]"
   ]
  },
  {
   "cell_type": "code",
   "execution_count": 26,
   "id": "2bbd9748",
   "metadata": {
    "tags": []
   },
   "outputs": [],
   "source": [
    "# thrust constraints\n",
    "thr_const = [mu_1[0,0]*(1-(F@y0-Z0[0,0])+0.5*(F@y0-Z0[0,0])**2)<=e_sigma@upsilon[0:4,:]@eta,\n",
    "            e_sigma@upsilon[0:4,:]@eta<=mu_2[0,0]*(1-(F@y0-Z0[0,0]))]\n",
    "\n",
    "for k in range(0,N):\n",
    "    # print(f'thr_const for iter:{k}')\n",
    "    h3 = multiply(psi[7*k:7*(k+1),:],eta) # good\n",
    "    h1 = list_dot_product(F.squeeze(),(epsilon_k[:,k, np.newaxis]+h3)[:,0])-Z0[k+1,0]\n",
    "    h = 1-h1+0.5*(h1**2)\n",
    "    xLHS = mu_1[0,k+1]*h\n",
    "    xRHS = e_sigma@upsilon[4*k:4*k+4,:]@eta\n",
    "    yLHS = e_sigma@upsilon[4*k:4*k+4,:]@eta\n",
    "    yRHS = mu_2[0,k+1]*(1-h1)\n",
    "    thr_const.append(xLHS<=xRHS)\n",
    "    thr_const.append(yLHS <= yRHS)\n",
    "    "
   ]
  },
  {
   "cell_type": "code",
   "execution_count": 27,
   "id": "7f1b3fb1",
   "metadata": {
    "tags": []
   },
   "outputs": [],
   "source": [
    "# Fuel mass constraints\n",
    "f_const = []\n",
    "\n",
    "for k in range(0,N):\n",
    "    # print(f'f_const for iter:{k}')\n",
    "    h3 = multiply(psi[7*k:7*(k+1),:],eta) # good\n",
    "    h1 = list_dot_product(F.squeeze(),(epsilon_k[:,k, np.newaxis]+h3)[:,0])\n",
    "    xRHS = cp.log(m_wet-alpha*n*T1*math.cos(phii)*time_step*(k+1))\n",
    "    xLHS = h1\n",
    "    yRHS = h1\n",
    "    yLHS = cp.log(m_wet-alpha*n*T2*math.cos(phii)*time_step*(k+1))\n",
    "    f_const.append(xLHS <= xRHS)\n",
    "    f_const.append(0 <= yRHS)\n",
    "    f_const.append(0 <= yLHS)"
   ]
  },
  {
   "cell_type": "code",
   "execution_count": 28,
   "id": "91940075-5e14-44a5-8550-c2eac4224823",
   "metadata": {
    "tags": []
   },
   "outputs": [],
   "source": [
    "# # Fuel mass constraints\n",
    "# a = 1e5\n",
    "# f_const = []\n",
    "# for k in range(0,N):\n",
    "#     # print(f'f_const for iter:{k}')\n",
    "#     h3 = multiply(psi[7*k:7*(k+1),:],eta) # good\n",
    "#     h1 = list_dot_product(F.squeeze(),(epsilon_k[:,k, np.newaxis]+h3)[:,0])\n",
    "#     xLHS = h1\n",
    "#     x = m_wet-alpha*n*T1*math.cos(phii)*time_step*(k+1)\n",
    "#     xRHS = a*x**(1/a) - a\n",
    "#     # f_const.append(xLHS <= xRHS)\n",
    "    \n",
    "#     y = m_wet-alpha*n*T2*math.cos(phii)*time_step*(k+1)\n",
    "#     yLHS = a*y**(1/a) - a\n",
    "#     yRHS = h1\n",
    "#     f_const.append(yLHS <= yRHS)"
   ]
  },
  {
   "cell_type": "code",
   "execution_count": 29,
   "id": "2a9ae995-6c53-4006-8e2c-29d388419ff2",
   "metadata": {},
   "outputs": [
    {
     "data": {
      "text/plain": [
       "[Inequality(Expression(CONVEX, UNKNOWN, ()))]"
      ]
     },
     "execution_count": 29,
     "metadata": {},
     "output_type": "execute_result"
    }
   ],
   "source": [
    "a1 = np.array([[0, 1, 0],[0, 0, 1]])@np.concatenate((np.identity(3),np.zeros((3,4))),axis=1)\n",
    "a2 = np.expand_dims(epsilon_k[:,k],axis=1) + multiply(psi[7*(N-1):7*(N),:],eta)\n",
    "a3 = multiply(a1,a2).squeeze()\n",
    "a4 = cp.norm(cp.vstack(a3))\n",
    "b1=np.array([[-0.268, 0, 0, 0, 0, 0, 0]])\n",
    "b2=multiply(b1,a2) \n",
    "b2 = b2.tolist()[0][0]\n",
    "cone_const = [(a4+b2) <= 0]\n",
    "cone_const"
   ]
  },
  {
   "cell_type": "code",
   "execution_count": 30,
   "id": "9204c047",
   "metadata": {
    "scrolled": true,
    "tags": []
   },
   "outputs": [
    {
     "name": "stdout",
     "output_type": "stream",
     "text": [
      "419.97503939599216\n",
      "optimal\n",
      "Problem is dpp: True\n",
      "Problem is dcp: True\n"
     ]
    }
   ],
   "source": [
    "socp_constraints =  Conv_const + h_const + v_const + cone_const + thr_const #+ f_const \n",
    "\n",
    "prob = cp.Problem(obj, socp_constraints)\n",
    "prob.solve()\n",
    "print(obj.value)\n",
    "print(prob.status)\n",
    "print(\"Problem is dpp:\",prob.is_dpp())\n",
    "print(\"Problem is dcp:\",prob.is_dcp())\n",
    "#prob.solve()\n",
    "#print(prob.parameters)"
   ]
  },
  {
   "cell_type": "code",
   "execution_count": 31,
   "id": "72b2a3c0-df21-45f6-90c5-5477bcf2bfa2",
   "metadata": {},
   "outputs": [],
   "source": [
    "# layer = CvxpyLayer(prob, parameters=[alpha], variables=[eta])\n",
    "# alpha_tch = torch.tensor(alpha_val, requires_grad=True)\n",
    "# #print(alpha_tch)\n",
    "# solution = layer(alpha_tch)[0]\n",
    "# T = torch.sum(solution)\n",
    "# T.backward()\n",
    "# print(alpha_tch.grad)"
   ]
  },
  {
   "cell_type": "code",
   "execution_count": 32,
   "id": "b365632a-84b5-44f1-9d1b-e6813d7f1b69",
   "metadata": {},
   "outputs": [
    {
     "name": "stderr",
     "output_type": "stream",
     "text": [
      "2023-01-01 23:34:49.571497: I tensorflow/core/platform/cpu_feature_guard.cc:193] This TensorFlow binary is optimized with oneAPI Deep Neural Network Library (oneDNN) to use the following CPU instructions in performance-critical operations:  AVX2 FMA\n",
      "To enable them in other operations, rebuild TensorFlow with the appropriate compiler flags.\n"
     ]
    },
    {
     "data": {
      "text/plain": [
       "[<tf.Tensor: shape=(1,), dtype=float64, numpy=array([-11502.021])>]"
      ]
     },
     "execution_count": 32,
     "metadata": {},
     "output_type": "execute_result"
    }
   ],
   "source": [
    "layer = CvxpyLayer(prob, parameters=[alpha], variables=[eta])\n",
    "alpha_tf = tf.Variable([alpha_val*1])\n",
    "\n",
    "with tf.GradientTape() as tape:\n",
    "    solution = layer(alpha_tf)\n",
    "    summed_solution = tf.math.reduce_sum(solution)\n",
    "    \n",
    "gradAlpha = tape.gradient(summed_solution, [alpha_tf])\n",
    "gradAlpha"
   ]
  },
  {
   "cell_type": "code",
   "execution_count": 33,
   "id": "390d4ee3-bdab-4131-a347-158216bb5071",
   "metadata": {},
   "outputs": [
    {
     "data": {
      "text/plain": [
       "0.0006293"
      ]
     },
     "execution_count": 33,
     "metadata": {},
     "output_type": "execute_result"
    }
   ],
   "source": [
    "alpha_val"
   ]
  },
  {
   "cell_type": "code",
   "execution_count": 34,
   "id": "1fba0db4-665a-4530-a5f4-6122e52c3500",
   "metadata": {},
   "outputs": [],
   "source": [
    "# layer = CvxpyLayer(prob, parameters=[alpha], variables=[eta])\n",
    "# alphas = np.linspace(1.0e-8, 1.0e-3, 200)\n",
    "# grads = []\n",
    "# for alpha_vals in alphas:\n",
    "#     print(alpha_vals)\n",
    "#     alpha_tch = torch.tensor(alpha_vals, requires_grad=True)\n",
    "#     alpha_tch.grad = None\n",
    "#     solution = layer(alpha_tch)[0]\n",
    "#     T = torch.sum(solution)\n",
    "#     T.backward()\n",
    "#     grads.append(alpha_tch.grad.item())"
   ]
  },
  {
   "cell_type": "code",
   "execution_count": 35,
   "id": "31495990",
   "metadata": {},
   "outputs": [],
   "source": [
    "# cvxpylayer = CvxpyLayer(prob, parameters=[alpha], variables=[eta])\n",
    "# alpha_tch = torch.randn(requires_grad=True)\n",
    "# solution = cvxpylayer(alpha_tch)\n",
    "# solution.backward()\n",
    "\n",
    "# #print(obj.value)\n",
    "# #print(prob.status)\n",
    "# #print(alpha.value)\n",
    "# print(alpha.gradient)\n",
    "\n",
    "# #prob.solve(requires_grad=True)\n",
    "# #prob.backward()              #backpropagate through solution\n",
    "# #print(alpha.gradient)"
   ]
  },
  {
   "cell_type": "code",
   "execution_count": 36,
   "id": "0ba0ceff",
   "metadata": {},
   "outputs": [],
   "source": [
    "#     Output Information\n",
    "# Converting output into manageable format\n",
    "display_position = np.zeros((3,N+1))\n",
    "display_velocity = np.zeros((3,N+1))\n",
    "display_netthrust = np.zeros((3,N+1))\n",
    "display_thrust = np.zeros((3,N+1))\n",
    "display_allthrust = np.zeros((1,N+1))\n",
    "display_allvelocity = np.zeros((1,N+1))\n",
    "display_position[0:3, 0] = position_0\n",
    "display_velocity[0:3, 0] = velocity_0\n",
    "mass = np.zeros((1,N+1))\n",
    "mass[0] = m_wet"
   ]
  },
  {
   "cell_type": "code",
   "execution_count": 37,
   "id": "17e3cf1e-8741-4acb-bcf7-fd478692a58f",
   "metadata": {},
   "outputs": [],
   "source": [
    "# Convert all of the constant expressions\n",
    "type_list = (float, int, str, list, dict, tuple)\n",
    "\n",
    "# Loop through epsilon\n",
    "for i in range(epsilon_k.shape[0]):\n",
    "    for j in range(epsilon_k.shape[1]):\n",
    "        if (isinstance(epsilon_k[i,j], type_list) == False):\n",
    "            epsilon_k[i,j] = epsilon_k[i,j].value\n",
    "\n",
    "# Loop through psi\n",
    "for i in range(psi.shape[0]):\n",
    "    for j in range(psi.shape[1]):\n",
    "        if (isinstance(psi[i,j], type_list) == False):\n",
    "            psi[i,j] = psi[i,j].value    "
   ]
  },
  {
   "cell_type": "code",
   "execution_count": 38,
   "id": "535c8928",
   "metadata": {},
   "outputs": [],
   "source": [
    "for k in range(0,N):\n",
    "    v = (epsilon_k[:,k].reshape((7,1))+psi[7*k:7*(k+1),:]@eta.value)\n",
    "    display_position[:,k+1] = (np.concatenate((np.identity(3), np.zeros((3,4))), axis=1)@v).reshape((3,))\n",
    "    temp = np.concatenate((np.zeros((3,3)), np.identity(3)), axis=1)\n",
    "    display_velocity[:,k+1] = (np.concatenate((temp, np.zeros((3,1))), axis=1)@v).reshape(3,)\n",
    "    mass[0,k+1] = np.array([[0, 0, 0, 0, 0, 0, 1]])@v\n",
    "    mass[0,k+1] = np.exp(mass[0,k+1])\n",
    "\n",
    "for k in range(0,N):\n",
    "    display_netthrust[:,k+1] = (np.concatenate((np.identity(3), np.zeros((3,1))), axis=1)@(upsilon[4*k:4*k+4,:]@eta.value)).reshape(3,)\n",
    "    display_thrust[:,k+1] = display_netthrust[:,k+1]\n",
    "    display_netthrust[:,k+1] = display_netthrust[:,k+1]*mass[0,k+1]\n",
    "    #display_allthrust[0,k+1] = cp.norm(display_thrust[0:3,k+1],2)*mass[0,k+1]\n",
    "    #display_allvelocity[0,k+1] = cp.norm(display_velocity[0:3,k+1],2)\n",
    "\n"
   ]
  },
  {
   "cell_type": "code",
   "execution_count": 39,
   "id": "8e94f23a",
   "metadata": {},
   "outputs": [
    {
     "data": {
      "text/plain": [
       "<matplotlib.legend.Legend at 0x7f9dcf689a00>"
      ]
     },
     "execution_count": 39,
     "metadata": {},
     "output_type": "execute_result"
    },
    {
     "data": {
      "image/png": "[encoded data removed]",
      "text/plain": [
       "<Figure size 640x480 with 1 Axes>"
      ]
     },
     "metadata": {},
     "output_type": "display_data"
    }
   ],
   "source": [
    "plt.plot(t_vec,display_position[0,:],label=\"X\")\n",
    "plt.plot(t_vec,display_position[1,:],label=\"Y\")\n",
    "plt.plot(t_vec,display_position[2,:],label=\"Z\")\n",
    "plt.legend(loc=\"upper left\")"
   ]
  },
  {
   "cell_type": "code",
   "execution_count": 40,
   "id": "e6e1ed42",
   "metadata": {},
   "outputs": [
    {
     "data": {
      "text/plain": [
       "<matplotlib.legend.Legend at 0x7f9dbff67fa0>"
      ]
     },
     "execution_count": 40,
     "metadata": {},
     "output_type": "execute_result"
    },
    {
     "data": {
      "image/png": "[encoded data removed]",
      "text/plain": [
       "<Figure size 640x480 with 1 Axes>"
      ]
     },
     "metadata": {},
     "output_type": "display_data"
    }
   ],
   "source": [
    "plt.plot(t_vec,display_netthrust[0,:],label=\"X\")\n",
    "plt.plot(t_vec,display_netthrust[1,:],label=\"Y\")\n",
    "plt.plot(t_vec,display_netthrust[2,:],label=\"Z\")\n",
    "plt.legend(loc=\"upper left\")"
   ]
  },
  {
   "cell_type": "code",
   "execution_count": 41,
   "id": "60b57495",
   "metadata": {},
   "outputs": [
    {
     "data": {
      "text/plain": [
       "[<matplotlib.lines.Line2D at 0x7f9dc079f760>]"
      ]
     },
     "execution_count": 41,
     "metadata": {},
     "output_type": "execute_result"
    },
    {
     "data": {
      "image/png": "[encoded data removed]",
      "text/plain": [
       "<Figure size 640x480 with 2 Axes>"
      ]
     },
     "metadata": {},
     "output_type": "display_data"
    }
   ],
   "source": [
    "m1 = plt.subplot(2,1,1)\n",
    "m2 = plt.subplot(2,1,2)\n",
    "m1.plot(t_vec,mass[0,:],label=\"Z\")\n",
    "m2.plot(mass[0,50:52],label=\"Z\")"
   ]
  },
  {
   "cell_type": "code",
   "execution_count": null,
   "id": "d3c3dfd7",
   "metadata": {},
   "outputs": [],
   "source": []
  }
 ],
 "metadata": {
  "kernelspec": {
   "display_name": "Python 3 (ipykernel)",
   "language": "python",
   "name": "python3"
  },
  "language_info": {
   "codemirror_mode": {
    "name": "ipython",
    "version": 3
   },
   "file_extension": ".py",
   "mimetype": "text/x-python",
   "name": "python",
   "nbconvert_exporter": "python",
   "pygments_lexer": "ipython3",
   "version": "3.9.15"
  }
 },
 "nbformat": 4,
 "nbformat_minor": 5
}
