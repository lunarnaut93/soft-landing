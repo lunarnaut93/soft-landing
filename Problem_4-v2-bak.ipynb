{
 "cells": [
  {
   "cell_type": "code",
   "execution_count": 1,
   "id": "6c788add",
   "metadata": {},
   "outputs": [],
   "source": [
    "# Import packages.\n",
    "import cvxpy as cp\n",
    "import numpy as np\n",
    "import math\n",
    "from scipy.linalg import expm\n",
    "import matplotlib.pyplot as plt\n",
    "import torch\n",
    "from cvxpylayers.torch import CvxpyLayer"
   ]
  },
  {
   "cell_type": "code",
   "execution_count": 2,
   "id": "ef802db3",
   "metadata": {},
   "outputs": [],
   "source": [
    "# Parameter Initialization\n",
    "# Background Parameter\n",
    "g=[-3.7114, 0, 0]\n",
    "pi = math.pi\n",
    "m_dry=1505\n",
    "m_wet=1905\n",
    "I_sp=225\n",
    "T1=930\n",
    "T2=2480\n",
    "n=6\n",
    "phii=27*2*pi/360\n",
    "alpha_val=6.293e-4\n",
    "alpha = cp.Parameter(name=\"alpha\", value=6.293e-4, nonneg=True)\n",
    "#alphas = np.logspace(0, 0.01, 200)"
   ]
  },
  {
   "cell_type": "code",
   "execution_count": 3,
   "id": "7ef7f3c2",
   "metadata": {},
   "outputs": [],
   "source": [
    "# Optimal t_f and N\n",
    "t_f=68\n",
    "N=55\n",
    "time_step=t_f/N\n",
    "#Initial State\n",
    "position_0=[3000, 1000, 2000]\n",
    "velocity_0=[-50,10,100]\n",
    "y0=np.array([position_0 + velocity_0 + [np.log(m_wet)]]).T\n",
    "#print(y0, y0.shape)"
   ]
  },
  {
   "cell_type": "code",
   "execution_count": 4,
   "id": "ee47495a",
   "metadata": {},
   "outputs": [],
   "source": [
    "# Define A_c Matrix\n",
    "A_c1 = np.concatenate((np.zeros((3,3)), np.identity(3)), axis=1)\n",
    "A_c2 = np.concatenate((A_c1, np.zeros((3,1))), axis=1)\n",
    "A_c = np.concatenate((A_c2, np.zeros((4,7))), axis=0)\n",
    "#print(A_c,A_c.shape)"
   ]
  },
  {
   "cell_type": "code",
   "execution_count": 5,
   "id": "a668f3fa",
   "metadata": {},
   "outputs": [
    {
     "name": "stdout",
     "output_type": "stream",
     "text": [
      "[[0.0 0.0 0.0 0.0]\n",
      " [0.0 0.0 0.0 0.0]\n",
      " [0.0 0.0 0.0 0.0]\n",
      " [1.0 0.0 0.0 0.0]\n",
      " [0.0 1.0 0.0 0.0]\n",
      " [0.0 0.0 1.0 0.0]\n",
      " [0 0 0 Expression(CONSTANT, NONPOSITIVE, ())]] (7, 4)\n"
     ]
    }
   ],
   "source": [
    "# Define B_c Matrix\n",
    "B_c1 = np.concatenate((np.zeros((3,3)), np.identity(3)),axis=0)\n",
    "B_c2 = np.concatenate((B_c1, np.zeros((6,1))),axis=1)\n",
    "B_c = np.concatenate((B_c2, np.array([[0,0,0,-alpha]])), axis=0)\n",
    "print(B_c,B_c.shape)"
   ]
  },
  {
   "cell_type": "code",
   "execution_count": 6,
   "id": "3091c4ba",
   "metadata": {},
   "outputs": [
    {
     "name": "stdout",
     "output_type": "stream",
     "text": [
      "A= [[1.     0.     0.     1.2364 0.     0.     0.    ]\n",
      " [0.     1.     0.     0.     1.2364 0.     0.    ]\n",
      " [0.     0.     1.     0.     0.     1.2364 0.    ]\n",
      " [0.     0.     0.     1.     0.     0.     0.    ]\n",
      " [0.     0.     0.     0.     1.     0.     0.    ]\n",
      " [0.     0.     0.     0.     0.     1.     0.    ]\n",
      " [0.     0.     0.     0.     0.     0.     1.    ]] (7, 7)\n",
      "B_val= [[ 7.6430e-01  0.0000e+00  0.0000e+00  0.0000e+00]\n",
      " [ 0.0000e+00  7.6430e-01  0.0000e+00  0.0000e+00]\n",
      " [ 0.0000e+00  0.0000e+00  7.6430e-01  0.0000e+00]\n",
      " [ 1.2364e+00  0.0000e+00  0.0000e+00  0.0000e+00]\n",
      " [ 0.0000e+00  1.2364e+00  0.0000e+00  0.0000e+00]\n",
      " [ 0.0000e+00  0.0000e+00  1.2364e+00  0.0000e+00]\n",
      " [ 0.0000e+00  0.0000e+00  0.0000e+00 -6.2930e-04]] (7, 4)\n",
      "<class 'numpy.ndarray'>\n"
     ]
    }
   ],
   "source": [
    "# Define A & B Matrix\n",
    "\"\"\"\n",
    "  Work on this later!!!\n",
    "  use SciPy\n",
    "  \n",
    "[A,B]=c2d(A_c,B_c,time_step);% A 7*7 ;B 7*4\n",
    "\"\"\"\n",
    "\n",
    "\n",
    "\n",
    "A = np.array([[1, 0, 0, 1.2364, 0, 0, 0],\n",
    "              [0, 1, 0, 0, 1.2364, 0, 0],\n",
    "              [0, 0, 1, 0, 0, 1.2364, 0],\n",
    "              [0, 0, 0, 1, 0, 0, 0],\n",
    "              [0, 0, 0, 0, 1, 0, 0],\n",
    "              [0, 0, 0, 0, 0, 1, 0],\n",
    "              [0, 0, 0, 0, 0, 0, 1]\n",
    "\n",
    "])\n",
    "print(\"A=\", A, A.shape)\n",
    "\n",
    "B_val = np.array([[0.7643, 0, 0, 0],\n",
    "          [0, 0.7643, 0, 0],\n",
    "          [0, 0, 0.7643, 0],\n",
    "          [1.2364, 0, 0, 0],\n",
    "          [0, 1.2364, 0, 0],\n",
    "          [0, 0, 1.2364, 0],    \n",
    "          [0, 0, 0, -alpha.value]])\n",
    "print(\"B_val=\", B_val, B_val.shape)\n",
    "print(type(B_val))"
   ]
  },
  {
   "cell_type": "code",
   "execution_count": 11,
   "id": "37aa3ec7",
   "metadata": {},
   "outputs": [
    {
     "name": "stdout",
     "output_type": "stream",
     "text": [
      "<class 'cvxpy.expressions.expression.Expression'>\n"
     ]
    }
   ],
   "source": [
    "#B = cp.Variable((7, 4))\n",
    "\n",
    "#B = cp.Parameter(shape=(7, 4),name=\"B\", value=B_val)\n",
    "B = cp.Expression()\n",
    "#constraints = [ B[-1][-1] == alpha]\n",
    "#constraints.append(B == B_val)\n",
    "\n",
    "#print(\"B=\", B)\n",
    "print(type(B))\n",
    "#print(A[:,0:3])"
   ]
  },
  {
   "cell_type": "code",
   "execution_count": 8,
   "id": "08a6c5c5",
   "metadata": {},
   "outputs": [
    {
     "name": "stdout",
     "output_type": "stream",
     "text": [
      "[[ 1.     0.     0.    ...  0.     0.     0.   ]\n",
      " [ 0.     1.     0.    ... 68.002  0.     0.   ]\n",
      " [ 0.     0.     1.    ...  0.    68.002  0.   ]\n",
      " ...\n",
      " [ 0.     0.     0.    ...  1.     0.     0.   ]\n",
      " [ 0.     0.     0.    ...  0.     1.     0.   ]\n",
      " [ 0.     0.     0.    ...  0.     0.     1.   ]] (7, 385)\n"
     ]
    }
   ],
   "source": [
    "# Matrix for State Computation\n",
    "phi=np.zeros((7,7*N)) # A^k 7*7N\n",
    "phi[:,0:7]=A\n",
    "for k in range(2,N+1):\n",
    "    phi[:,7*k-7:7*k]=A@phi[:,7*k-14:7*k-7]\n",
    "print(phi, phi.shape)"
   ]
  },
  {
   "cell_type": "code",
   "execution_count": 12,
   "id": "94485824",
   "metadata": {},
   "outputs": [],
   "source": [
    "##### lambda #####\n",
    "#lam = cp.Expression()\n",
    "lam_val = np.zeros((7,4*N)) #B+AB+......A^(k-1)B 7*4N\n",
    "\n",
    "##### Using the whole np.array matrix instead of B\n",
    "#lam_val[:,0:4]= B\n",
    "#for k in range(2,N+1):\n",
    "#    lam_val[:,4*k-4:4*k]=A@lam_val[:,4*k-8:4*k-4]+B.value\n",
    "#print(lam_val, lam_val.shape)\n",
    "#lam = cp.Parameter(shape=(7,4*N), name=\"lam\", value=lam_val)\n",
    "lam = cp.Expression()\n",
    "#lam = lam_val\n",
    "#print(lam)\n"
   ]
  },
  {
   "cell_type": "code",
   "execution_count": 13,
   "id": "f83a0b09",
   "metadata": {},
   "outputs": [
    {
     "ename": "NotImplementedError",
     "evalue": "",
     "output_type": "error",
     "traceback": [
      "\u001b[1;31m---------------------------------------------------------------------------\u001b[0m",
      "\u001b[1;31mNotImplementedError\u001b[0m                       Traceback (most recent call last)",
      "\u001b[1;32m<ipython-input-13-f787d4114f0f>\u001b[0m in \u001b[0;36m<module>\u001b[1;34m\u001b[0m\n\u001b[0;32m      1\u001b[0m \u001b[1;31m##### define parameter constraints for lambda\u001b[0m\u001b[1;33m\u001b[0m\u001b[1;33m\u001b[0m\u001b[1;33m\u001b[0m\u001b[0m\n\u001b[0;32m      2\u001b[0m \u001b[0mconstraints\u001b[0m \u001b[1;33m=\u001b[0m \u001b[1;33m[\u001b[0m\u001b[1;33m]\u001b[0m\u001b[1;33m\u001b[0m\u001b[1;33m\u001b[0m\u001b[0m\n\u001b[1;32m----> 3\u001b[1;33m constraints.append(lam[:,0:4] == np.array([[0.7643, 0, 0, 0],\n\u001b[0m\u001b[0;32m      4\u001b[0m                                            \u001b[1;33m[\u001b[0m\u001b[1;36m0\u001b[0m\u001b[1;33m,\u001b[0m \u001b[1;36m0.7643\u001b[0m\u001b[1;33m,\u001b[0m \u001b[1;36m0\u001b[0m\u001b[1;33m,\u001b[0m \u001b[1;36m0\u001b[0m\u001b[1;33m]\u001b[0m\u001b[1;33m,\u001b[0m\u001b[1;33m\u001b[0m\u001b[1;33m\u001b[0m\u001b[0m\n\u001b[0;32m      5\u001b[0m                                            \u001b[1;33m[\u001b[0m\u001b[1;36m0\u001b[0m\u001b[1;33m,\u001b[0m \u001b[1;36m0\u001b[0m\u001b[1;33m,\u001b[0m \u001b[1;36m0.7643\u001b[0m\u001b[1;33m,\u001b[0m \u001b[1;36m0\u001b[0m\u001b[1;33m]\u001b[0m\u001b[1;33m,\u001b[0m\u001b[1;33m\u001b[0m\u001b[1;33m\u001b[0m\u001b[0m\n",
      "\u001b[1;32m~\\Anaconda3\\lib\\site-packages\\cvxpy\\expressions\\expression.py\u001b[0m in \u001b[0;36m__getitem__\u001b[1;34m(self, key)\u001b[0m\n\u001b[0;32m    451\u001b[0m             \u001b[1;32mreturn\u001b[0m \u001b[0mcvxtypes\u001b[0m\u001b[1;33m.\u001b[0m\u001b[0mspecial_index\u001b[0m\u001b[1;33m(\u001b[0m\u001b[1;33m)\u001b[0m\u001b[1;33m(\u001b[0m\u001b[0mself\u001b[0m\u001b[1;33m,\u001b[0m \u001b[0mkey\u001b[0m\u001b[1;33m)\u001b[0m\u001b[1;33m\u001b[0m\u001b[1;33m\u001b[0m\u001b[0m\n\u001b[0;32m    452\u001b[0m         \u001b[1;32melse\u001b[0m\u001b[1;33m:\u001b[0m\u001b[1;33m\u001b[0m\u001b[1;33m\u001b[0m\u001b[0m\n\u001b[1;32m--> 453\u001b[1;33m             \u001b[1;32mreturn\u001b[0m \u001b[0mcvxtypes\u001b[0m\u001b[1;33m.\u001b[0m\u001b[0mindex\u001b[0m\u001b[1;33m(\u001b[0m\u001b[1;33m)\u001b[0m\u001b[1;33m(\u001b[0m\u001b[0mself\u001b[0m\u001b[1;33m,\u001b[0m \u001b[0mkey\u001b[0m\u001b[1;33m)\u001b[0m\u001b[1;33m\u001b[0m\u001b[1;33m\u001b[0m\u001b[0m\n\u001b[0m\u001b[0;32m    454\u001b[0m \u001b[1;33m\u001b[0m\u001b[0m\n\u001b[0;32m    455\u001b[0m     \u001b[1;33m@\u001b[0m\u001b[0mproperty\u001b[0m\u001b[1;33m\u001b[0m\u001b[1;33m\u001b[0m\u001b[0m\n",
      "\u001b[1;32m~\\Anaconda3\\lib\\site-packages\\cvxpy\\atoms\\affine\\index.py\u001b[0m in \u001b[0;36m__init__\u001b[1;34m(self, expr, key, orig_key)\u001b[0m\n\u001b[0;32m     48\u001b[0m         \u001b[1;32mif\u001b[0m \u001b[0morig_key\u001b[0m \u001b[1;32mis\u001b[0m \u001b[1;32mNone\u001b[0m\u001b[1;33m:\u001b[0m\u001b[1;33m\u001b[0m\u001b[1;33m\u001b[0m\u001b[0m\n\u001b[0;32m     49\u001b[0m             \u001b[0mself\u001b[0m\u001b[1;33m.\u001b[0m\u001b[0m_orig_key\u001b[0m \u001b[1;33m=\u001b[0m \u001b[0mkey\u001b[0m\u001b[1;33m\u001b[0m\u001b[1;33m\u001b[0m\u001b[0m\n\u001b[1;32m---> 50\u001b[1;33m             \u001b[0mself\u001b[0m\u001b[1;33m.\u001b[0m\u001b[0mkey\u001b[0m \u001b[1;33m=\u001b[0m \u001b[0mku\u001b[0m\u001b[1;33m.\u001b[0m\u001b[0mvalidate_key\u001b[0m\u001b[1;33m(\u001b[0m\u001b[0mkey\u001b[0m\u001b[1;33m,\u001b[0m \u001b[0mexpr\u001b[0m\u001b[1;33m.\u001b[0m\u001b[0mshape\u001b[0m\u001b[1;33m)\u001b[0m\u001b[1;33m\u001b[0m\u001b[1;33m\u001b[0m\u001b[0m\n\u001b[0m\u001b[0;32m     51\u001b[0m         \u001b[1;32melse\u001b[0m\u001b[1;33m:\u001b[0m\u001b[1;33m\u001b[0m\u001b[1;33m\u001b[0m\u001b[0m\n\u001b[0;32m     52\u001b[0m             \u001b[0mself\u001b[0m\u001b[1;33m.\u001b[0m\u001b[0m_orig_key\u001b[0m \u001b[1;33m=\u001b[0m \u001b[0morig_key\u001b[0m\u001b[1;33m\u001b[0m\u001b[1;33m\u001b[0m\u001b[0m\n",
      "\u001b[1;32m~\\Anaconda3\\lib\\site-packages\\cvxpy\\expressions\\expression.py\u001b[0m in \u001b[0;36mshape\u001b[1;34m(self)\u001b[0m\n\u001b[0;32m    390\u001b[0m         \"\"\"tuple : The expression dimensions.\n\u001b[0;32m    391\u001b[0m         \"\"\"\n\u001b[1;32m--> 392\u001b[1;33m         \u001b[1;32mraise\u001b[0m \u001b[0mNotImplementedError\u001b[0m\u001b[1;33m(\u001b[0m\u001b[1;33m)\u001b[0m\u001b[1;33m\u001b[0m\u001b[1;33m\u001b[0m\u001b[0m\n\u001b[0m\u001b[0;32m    393\u001b[0m \u001b[1;33m\u001b[0m\u001b[0m\n\u001b[0;32m    394\u001b[0m     \u001b[1;32mdef\u001b[0m \u001b[0mis_real\u001b[0m\u001b[1;33m(\u001b[0m\u001b[0mself\u001b[0m\u001b[1;33m)\u001b[0m \u001b[1;33m->\u001b[0m \u001b[0mbool\u001b[0m\u001b[1;33m:\u001b[0m\u001b[1;33m\u001b[0m\u001b[1;33m\u001b[0m\u001b[0m\n",
      "\u001b[1;31mNotImplementedError\u001b[0m: "
     ]
    }
   ],
   "source": [
    "##### define parameter constraints for lambda\n",
    "constraints = []\n",
    "constraints.append(lam[:,0:4] == np.array([[0.7643, 0, 0, 0], \n",
    "                                           [0, 0.7643, 0, 0], \n",
    "                                           [0, 0, 0.7643, 0], \n",
    "                                           [1.2364, 0, 0, 0], \n",
    "                                           [0, 1.2364, 0, 0], \n",
    "                                           [0, 0, 1.2364, 0],    \n",
    "                                           [0, 0, 0, -alpha]]))\n",
    "for k in range(2,N+1):\n",
    "    constraints.append(lam[:,4*k-4:4*k] == A@lam[:,4*k-8:4*k-4]+B)\n"
   ]
  },
  {
   "cell_type": "code",
   "execution_count": null,
   "id": "841e27d4",
   "metadata": {},
   "outputs": [],
   "source": [
    "##### psi ######\n",
    "psi_val=np.zeros((7*N,4*N+4)) #psi 7N*(4N+4)\n",
    "psi_val[0:7,0:4] = B.value\n",
    "psi_val[7*k-7:7*k,:] = A@psi_val[7*k-14:7*k-7,:]\n",
    "psi_val[7*k-7:7*k,4*k-4:4*k] = B.value\n",
    "psi = cp.Parameter(shape=(7*N,4*N+4), name=\"psi\", value=psi_val)\n",
    "#psi = cp.Variable(shape=(7*N,4*N+4))\n",
    "#psi = psi_val\n",
    "print(psi)"
   ]
  },
  {
   "cell_type": "code",
   "execution_count": null,
   "id": "6e2a8883",
   "metadata": {},
   "outputs": [],
   "source": [
    "##### define parameter constraints for lambda\n",
    "constraints.append(psi[0:7,0:4] == B)\n",
    "for k in range(2,N+1):\n",
    "    constraints.append(psi[7*k-7:7*k,:] == A@psi[7*k-14:7*k-7,:])\n",
    "    constraints.append(psi[7*k-7:7*k,4*k-4:4*k] == B)\n",
    "#print(psi_val, psi_val.shape)\n"
   ]
  },
  {
   "cell_type": "code",
   "execution_count": null,
   "id": "5625d46b",
   "metadata": {},
   "outputs": [],
   "source": [
    "upsilon=np.zeros((4*N,4*N+4)) #upsilon 4N*(4N+4)\n",
    "for k in range(1,N+1):\n",
    "    upsilon[4*k-4:4*k,4*k-4:4*k]=np.identity(4)\n",
    "#print(upsilon, upsilon.shape)\n"
   ]
  },
  {
   "cell_type": "code",
   "execution_count": null,
   "id": "e9c1c9df",
   "metadata": {},
   "outputs": [],
   "source": [
    "# Matrix for Optimal Computation\n",
    "Z0_val = np.zeros((N+1,1)) #(N+1)*1\n",
    "for k in range(N+1):\n",
    "    Z0_val[k,0]=np.log(m_wet-alpha.value*n*T2*math.cos(phii)*time_step*k) #(N+1)*1\n",
    "Z0 = cp.Parameter((N+1,1), name=\"Z0\", value=Z0_val) \n",
    "\n",
    "for k in range(N+1):\n",
    "    constraints.append(Z0[k,0] == np.log(m_wet-alpha.value*n*T2*math.cos(phii)*time_step*k)) \n",
    "    \n",
    "#print(Z0_val,Z0_val.shape)\n",
    "#print(Z0[7,0])\n",
    "\n",
    "#Z0 = cp.Parameter(shape=(N+1,1),value=Z0_val)\n",
    "#Z0 = cp.Expression()\n",
    "#Z0 = Z0_val\n",
    "#print(Z0)\n"
   ]
  },
  {
   "cell_type": "code",
   "execution_count": null,
   "id": "3f257d95",
   "metadata": {},
   "outputs": [],
   "source": [
    "mu_1_val = np.zeros((1,N+1)) #1*(N+1)\n",
    "mu_2_val = np.zeros((1,N+1)) #1*(N+1)\n",
    "for k in range(N+1):\n",
    "    mu_1_val[0,k]=n*T1*math.cos(phii)*np.exp(-Z0_val[k,0]) \n",
    "    mu_2_val[0,k]=n*T2*math.cos(phii)*np.exp(-Z0_val[k,0])\n",
    "    \n",
    "mu_1 = cp.Parameter((1,N+1), name=\"mu_1\", value=mu_1_val)\n",
    "mu_2 = cp.Parameter((1,N+1), name=\"mu_2\", value=mu_2_val)\n",
    "\n",
    "for k in range(N+1):\n",
    "    constraints.append(mu_1[0,k] == n*T1*math.cos(phii)*cp.exp(-Z0[k,0]))  #1*(N+1)\n",
    "    constraints.append(mu_2[0,k] == n*T2*math.cos(phii)*cp.exp(-Z0[k,0]))  #1*(N+1)\n",
    "#print(mu_1_val, mu_1_val.shape)\n",
    "#print(mu_2_val, mu_2_val.shape)\n",
    "\n",
    "#mu_1 = cp.Parameter(shape=(1,N+1),value=mu_1_val)\n",
    "#mu_2 = cp.Parameter(shape=(1,N+1),value=mu_2_val)\n",
    "#mu_1 = cp.Expression()\n",
    "#mu_2 = cp.Expression()\n",
    "#mu_1 = mu_1_val\n",
    "#mu_2 = mu_2_val\n",
    "#print(mu_1, mu_1.shape)\n",
    "#print(mu_2, mu_2.shape)"
   ]
  },
  {
   "cell_type": "code",
   "execution_count": null,
   "id": "5f13ec1f",
   "metadata": {},
   "outputs": [],
   "source": [
    "epsilon_k_val=np.zeros((7,N))\n",
    "for k in range(0,N):\n",
    "    temp_val = phi[:,7*k:7*(k+1)]@y0+lam.value[:,4*k:4*(k+1)]@np.array([g + [0]]).T\n",
    "    epsilon_k_val[:,k]=temp_val[:,0]\n",
    "epsilon_k=cp.Parameter(shape=(7,N),name=\"epsilon_k\",value=epsilon_k_val)\n",
    "temp = cp.Parameter(shape=(7,1), name=\"temp\", value=temp_val)\n",
    "for k in range(0,N):\n",
    "    constraints.append(temp == phi[:,7*k:7*(k+1)]@y0+lam[:,4*k:4*(k+1)]@np.array([g + [0]]).T)\n",
    "    #print(temp.shape)\n",
    "    constraints.append(epsilon_k[:,k] == temp[:,0])\n",
    "#print(epsilon_k, epsilon_k.shape)"
   ]
  },
  {
   "cell_type": "code",
   "execution_count": null,
   "id": "38ff1b8f",
   "metadata": {},
   "outputs": [],
   "source": [
    "e_sigma = np.array([0,0,0,1])\n",
    "#E = np.concatenate((np.identity(6), np.zeros((6,1))), axis=1)\n",
    "F = np.concatenate((np.zeros(6), np.ones(1)), axis=None).reshape((1,7))\n",
    "E_u = np.concatenate((np.identity(3), np.zeros((3,1))), axis=1)\n",
    "#print(F,F.shape)"
   ]
  },
  {
   "cell_type": "code",
   "execution_count": null,
   "id": "cfdd5272",
   "metadata": {},
   "outputs": [],
   "source": [
    "omega=np.zeros((1,4*N))  #1*4N\n",
    "for k in range(0,N):\n",
    "    omega[0,4*k:4*(k+1)]=e_sigma\n",
    "omega=time_step*omega\n",
    "#print(omega, omega.shape)"
   ]
  },
  {
   "cell_type": "code",
   "execution_count": null,
   "id": "c6891271",
   "metadata": {},
   "outputs": [],
   "source": [
    "# Define and solve the CVXPY problem.\n",
    "eta = cp.Variable((4*N+4,1))\n",
    "obj = cp.Minimize(omega@eta[0:4*N,0])\n"
   ]
  },
  {
   "cell_type": "code",
   "execution_count": null,
   "id": "39c54108",
   "metadata": {},
   "outputs": [],
   "source": [
    "#  Final height constraint\n",
    "m1 = np.concatenate((np.identity(3), np.zeros((3,4))), axis=1)\n",
    "m2 = np.concatenate((np.zeros((4,3)), np.zeros((4,4))), axis=1)\n",
    "m = np.concatenate((m1, m2), axis=0)\n",
    "#print(((cp.reshape(epsilon_k[:,N-1],(7,1))+(psi[7*N-7:7*N,:]@eta))).shape)\n",
    "#print((psi[7*N-7:7*N,:]@eta).shape)\n",
    "h_const = [m@(cp.reshape(epsilon_k[:,N-1],(7,1))+(psi[7*N-7:7*N,:]@eta))==np.zeros((7,1))]"
   ]
  },
  {
   "cell_type": "code",
   "execution_count": null,
   "id": "09da842c",
   "metadata": {},
   "outputs": [],
   "source": [
    "#  Final velocity constraint\n",
    "v_const = [\n",
    "    np.array([[0, 0, 0, 1, 0, 0, 0]])@(cp.reshape(epsilon_k[:,N-1], (7,1))+psi[7*N-7:7*N,:]@eta)==0,\n",
    "    np.array([[0, 0, 0, 0, 1, 0, 0]])@(cp.reshape(epsilon_k[:,N-1], (7,1))+psi[7*N-7:7*N,:]@eta)==0,\n",
    "    np.array([[0, 0, 0, 0, 0, 1, 0]])@(cp.reshape(epsilon_k[:,N-1], (7,1))+psi[7*N-7:7*N,:]@eta)==0,\n",
    "]"
   ]
  },
  {
   "cell_type": "code",
   "execution_count": null,
   "id": "b6fa7a5d",
   "metadata": {},
   "outputs": [],
   "source": [
    "# Convexified Thrust Constraint\n",
    "#Conv_const = []\n",
    "#for k in range(N):\n",
    "#    Conv_const.append(cp.norm(E_u@upsilon[4*k:4*k+4,:]@eta,2) <= e_sigma@upsilon[4*k:4*k+4,:]@eta) \n",
    "#    #cp.norm(E_u@upsilon[4*k:4*k+4,:]@eta,2)<=e_sigma@upsilon[4*k:4*k+4,:]@eta\n",
    "Conv_const = [\n",
    "      cp.SOC(e_sigma@upsilon[4*k:4*k+4,:]@eta, E_u@upsilon[4*k:4*k+4,:]@eta) for k in range(N)\n",
    "]"
   ]
  },
  {
   "cell_type": "code",
   "execution_count": null,
   "id": "2bbd9748",
   "metadata": {},
   "outputs": [],
   "source": [
    "# thrust constraints\n",
    "thr_const = [mu_1[0,0]*(1-(F@y0-Z0[0,0])+0.5*(F@y0-Z0[0,0])**2)<=e_sigma@upsilon[0:4,:]@eta,\n",
    "            e_sigma@upsilon[0:4,:]@eta<=mu_2[0,0]*(1-(F@y0-Z0[0,0]))]\n",
    "\n",
    "for k in range(0,N):\n",
    "    thr_const.append(mu_1[0,k+1]*(1-(F.reshape((1,7))@(cp.reshape(epsilon_k[:,k],(7,1))+psi[7*k:7*(k+1),:]@eta)-Z0[k+1,0])+0.5*(F.reshape((1,7))@(cp.reshape(epsilon_k[:,k],(7,1))+psi[7*k:7*(k+1),:]@eta)-Z0[k+1,0])**2)<=e_sigma@upsilon[4*k:4*k+4,:]@eta)\n",
    "    thr_const.append(e_sigma@upsilon[4*k:4*k+4,:]@eta<=mu_2[0,k+1]*(1-(F.reshape((1,7))@(cp.reshape(epsilon_k[:,k],(7,1))+psi[7*k:7*(k+1),:]@eta)-Z0[k+1,0])))\n",
    " "
   ]
  },
  {
   "cell_type": "code",
   "execution_count": null,
   "id": "a9220342",
   "metadata": {},
   "outputs": [],
   "source": [
    "cp.log(alpha)"
   ]
  },
  {
   "cell_type": "code",
   "execution_count": null,
   "id": "7f1b3fb1",
   "metadata": {},
   "outputs": [],
   "source": [
    "# Fuel mass constraints\n",
    "f_const = []\n",
    "for k in range(0,N):\n",
    "    f_const.append(F.reshape((1,7))@(cp.reshape(epsilon_k[:,k],(7,1))+psi[7*k:7*(k+1),:]@eta)<=cp.log(m_wet-alpha*n*T1*math.cos(phii)*time_step*(k+1)))\n",
    "    f_const.append(cp.log(m_wet-alpha*n*T2*math.cos(phii)*time_step*(k+1))<=F.reshape((1,7))@(cp.reshape(epsilon_k[:,k],(7,1))+psi[7*k:7*(k+1),:]@eta))\n"
   ]
  },
  {
   "cell_type": "code",
   "execution_count": null,
   "id": "0e57ccf5",
   "metadata": {},
   "outputs": [],
   "source": [
    "print(f_const[0])"
   ]
  },
  {
   "cell_type": "code",
   "execution_count": null,
   "id": "208948bb",
   "metadata": {},
   "outputs": [],
   "source": [
    "# Cone constraints\n",
    "cone_const = [cp.norm(np.array([[0, 1, 0],[0, 0, 1]])@np.concatenate((np.identity(3),np.zeros((3,4))),axis=1)@(cp.reshape(epsilon_k[:,k],(7,1))+psi[7*k:7*(k+1),:]@eta),2)+np.array([[-0.268, 0, 0, 0, 0, 0, 0]])@(cp.reshape(epsilon_k[:,k],(7,1))+psi[7*k:7*(k+1),:]@eta)<=0]\n"
   ]
  },
  {
   "cell_type": "code",
   "execution_count": null,
   "id": "9204c047",
   "metadata": {
    "scrolled": true
   },
   "outputs": [],
   "source": [
    "socp_constraints = constraints + Conv_const + thr_const + h_const + v_const + cone_const + f_const + cone_const\n",
    "\n",
    "prob = cp.Problem(obj, socp_constraints)\n",
    "prob.solve()\n",
    "#print(obj.value)\n",
    "print(prob.status)\n",
    "print(\"Problem is dpp:\",prob.is_dpp())\n",
    "print(\"Problem is dcp:\",prob.is_dcp())\n",
    "#prob.solve()\n",
    "#print(prob.parameters)"
   ]
  },
  {
   "cell_type": "code",
   "execution_count": null,
   "id": "31495990",
   "metadata": {},
   "outputs": [],
   "source": [
    "cvxpylayer = CvxpyLayer(prob, parameters=[alpha], variables=[eta])\n",
    "alpha_tch = torch.randn(requires_grad=True)\n",
    "solution = cvxpylayer(alpha_tch)\n",
    "solution.backward()\n",
    "\n",
    "#print(obj.value)\n",
    "#print(prob.status)\n",
    "#print(alpha.value)\n",
    "print(alpha.gradient)\n",
    "\n",
    "#prob.solve(requires_grad=True)\n",
    "#prob.backward()              #backpropagate through solution\n",
    "#print(alpha.gradient)\n"
   ]
  },
  {
   "cell_type": "code",
   "execution_count": null,
   "id": "0ba0ceff",
   "metadata": {},
   "outputs": [],
   "source": [
    "#     Output Information\n",
    "# Converting output into manageable format\n",
    "display_position = np.zeros((3,N+1))\n",
    "display_velocity = np.zeros((3,N+1))\n",
    "display_netthrust = np.zeros((3,N+1))\n",
    "display_thrust = np.zeros((3,N+1))\n",
    "display_allthrust = np.zeros((1,N+1))\n",
    "display_allvelocity = np.zeros((1,N+1))\n",
    "display_position[0:3, 0] = position_0\n",
    "display_velocity[0:3, 0] = velocity_0\n",
    "mass = np.zeros((1,N+1))\n",
    "mass[0] = m_wet"
   ]
  },
  {
   "cell_type": "code",
   "execution_count": null,
   "id": "535c8928",
   "metadata": {},
   "outputs": [],
   "source": [
    "\n",
    "for k in range(0,N):\n",
    "    v = (epsilon_k[:,k].reshape((7,1))+psi[7*k:7*(k+1),:]@eta.value)\n",
    "    display_position[:,k+1] = (np.concatenate((np.identity(3), np.zeros((3,4))), axis=1)@v).reshape((3,))\n",
    "    temp = np.concatenate((np.zeros((3,3)), np.identity(3)), axis=1)\n",
    "    display_velocity[:,k+1] = (np.concatenate((temp, np.zeros((3,1))), axis=1)@v).reshape(3,)\n",
    "    mass[0,k+1] = np.array([[0, 0, 0, 0, 0, 0, 1]])@v\n",
    "    mass[0,k+1] = np.exp(mass[0,k+1])\n",
    "\n",
    "for k in range(0,N):\n",
    "    display_netthrust[:,k+1] = (np.concatenate((np.identity(3), np.zeros((3,1))), axis=1)@(upsilon[4*k:4*k+4,:]@eta.value)).reshape(3,)\n",
    "    display_thrust[:,k+1] = display_netthrust[:,k+1]\n",
    "    display_netthrust[:,k+1] = display_netthrust[:,k+1]*mass[0,k+1]\n",
    "    #display_allthrust[0,k+1] = cp.norm(display_thrust[0:3,k+1],2)*mass[0,k+1]\n",
    "    #display_allvelocity[0,k+1] = cp.norm(display_velocity[0:3,k+1],2)\n"
   ]
  },
  {
   "cell_type": "code",
   "execution_count": null,
   "id": "8e94f23a",
   "metadata": {},
   "outputs": [],
   "source": [
    "plt.plot(display_position[0,:],label=\"X\")\n",
    "plt.plot(display_position[1,:],label=\"Y\")\n",
    "plt.plot(display_position[2,:],label=\"Z\")\n",
    "plt.legend(loc=\"upper left\")"
   ]
  },
  {
   "cell_type": "code",
   "execution_count": null,
   "id": "e6e1ed42",
   "metadata": {},
   "outputs": [],
   "source": [
    "plt.plot(display_netthrust[0,:],label=\"X\")\n",
    "plt.plot(display_netthrust[1,:],label=\"Y\")\n",
    "plt.plot(display_netthrust[2,:],label=\"Z\")\n",
    "plt.legend(loc=\"upper left\")"
   ]
  },
  {
   "cell_type": "code",
   "execution_count": null,
   "id": "60b57495",
   "metadata": {},
   "outputs": [],
   "source": [
    "m1 = plt.subplot(2,1,1)\n",
    "m2 = plt.subplot(2,1,2)\n",
    "m1.plot(mass[0,:],label=\"Z\")\n",
    "\n",
    "m2.plot(mass[0,50:52],label=\"Z\")"
   ]
  },
  {
   "cell_type": "code",
   "execution_count": null,
   "id": "d3c3dfd7",
   "metadata": {},
   "outputs": [],
   "source": []
  }
 ],
 "metadata": {
  "kernelspec": {
   "display_name": "Python 3 (ipykernel)",
   "language": "python",
   "name": "python3"
  },
  "language_info": {
   "codemirror_mode": {
    "name": "ipython",
    "version": 3
   },
   "file_extension": ".py",
   "mimetype": "text/x-python",
   "name": "python",
   "nbconvert_exporter": "python",
   "pygments_lexer": "ipython3",
   "version": "3.10.7"
  }
 },
 "nbformat": 4,
 "nbformat_minor": 5
}
